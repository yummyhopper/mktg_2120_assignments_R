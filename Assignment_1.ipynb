{
  "cells": [
    {
      "cell_type": "markdown",
      "metadata": {
        "id": "gvi8-XwBSt5P"
      },
      "source": [
        "# MKTG 2120 Homework 1"
      ]
    },
    {
      "cell_type": "markdown",
      "metadata": {
        "id": "1ctBBzyVjohA"
      },
      "source": [
        "## Question 1\n",
        "This question uses the Hertz data, available from Wharton Customer Analytics (WCA). This is a unique and comprehensive data set from the Hertz Corporation, a world leader in retail rental cars and equipment. The secure data set is available on Canvas, under the Modules tab in the left menu bar. The “Hertz Student Data Key.docx” file describes the variables in the dataset. Please note that the data will only become visible to you after you sign the data user agreement, which is available on Canvas.\n",
        "\n",
        "Hertz is interested in understanding customer satisfaction, and what variables are predictive of how much a customer will recommend Hertz. To that end, they implemented a survey, which was available to customers after they returned their rental cars. The results of the survey, together with the transaction data, are contained in the hertz.csv file. The variables that are derived from that survey are those that are highlighted in the data key. The data key also contains the original question wording.\n",
        "\n",
        "Based on the Hertz data, please answer the following questions:"
      ]
    },
    {
      "cell_type": "markdown",
      "metadata": {
        "id": "zpU3DFGLS2IP"
      },
      "source": [
        "### 1a.\n",
        "\n",
        "Make a plot describing the distribution of the Recommend_Hertz variable.\n",
        "\n",
        "---\n"
      ]
    },
    {
      "cell_type": "code",
      "execution_count": 1,
      "metadata": {
        "colab": {
          "base_uri": "https://localhost:8080/",
          "height": 193
        },
        "id": "-Dg3dcIIJXyo",
        "outputId": "bedb6d45-81f6-44ce-adf7-04cd9161b179",
        "vscode": {
          "languageId": "r"
        }
      },
      "outputs": [
        {
          "name": "stderr",
          "output_type": "stream",
          "text": [
            "Warning message in file(file, \"rt\"):\n",
            "“cannot open file '/content/sample_data/hertz.csv': No such file or directory”\n"
          ]
        },
        {
          "ename": "ERROR",
          "evalue": "Error in file(file, \"rt\"): cannot open the connection\n",
          "output_type": "error",
          "traceback": [
            "Error in file(file, \"rt\"): cannot open the connection\nTraceback:\n",
            "1. read.csv(\"/content/sample_data/hertz.csv\")",
            "2. read.table(file = file, header = header, sep = sep, quote = quote, \n .     dec = dec, fill = fill, comment.char = comment.char, ...)",
            "3. file(file, \"rt\")"
          ]
        }
      ],
      "source": [
        "# Access ggplot to create graphics.\n",
        "library(ggplot2)\n",
        "\n",
        "# Read the data\n",
        "hertz <- read.csv(\"/content/sample_data/hertz.csv\")\n",
        "\n",
        "# Generate frequency table using recommendation score data.\n",
        "hertz_frequency <- table(hertz$Recommend_Hertz)\n",
        "\n",
        "# Convert to data frame.\n",
        "hertzdf <- as.data.frame(hertz_frequency)\n",
        "\n",
        "# Rename the columns to match data set.\n",
        "colnames(hertzdf) <- c(\"score\", \"frequency\")\n",
        "\n",
        "# Produce bar chart using geom_bar function, with count labels.\n",
        "ggplot(hertzdf, aes(x = score, y = frequency)) +\n",
        "  geom_bar(stat = \"identity\", fill = \"red\") +\n",
        "  geom_text(aes(label = frequency), vjust = -0.5, color = \"black\", size = 3) +\n",
        "  labs(title = \"Distribution of Hertz Recommendation Scores\",\n",
        "       x = \"Score\",\n",
        "       y = \"Frequency\") +\n",
        "  scale_y_continuous(breaks = seq(0, max(hertzdf$frequency), by = 200))"
      ]
    },
    {
      "cell_type": "markdown",
      "metadata": {
        "id": "2UQMgLwTTpng"
      },
      "source": [
        "### 1b.\n",
        "\n",
        "Describe the shape of the distribution. Using terminology from class, describe why the distribution may look the way it does, and why it may not reflect the true likelihood of people to recommend Hertz.\n",
        "\n",
        "---"
      ]
    },
    {
      "cell_type": "markdown",
      "metadata": {
        "id": "RyFKpKSsS2gi"
      },
      "source": [
        "The Distribution of Hertz Recommendation Scores is a left-skewed, unimodal bar graph. It is extremely left-skewed; the sample mean lies fairly high on the scale of satisfaction, and far to the right on the graph. On the surface, this might seem like a fantastic result, but the survey lends itself to multiple biases. For instance, the survey might suffer from non-response bias, meaning that satisfied customers are much more likely to respond to the survey than disappointed customers that might not want to waste their time on it. Additionally, psychological effects like leading questions or observer interference (users might be more inclined to give Hertz a higher score if they were being watched) might damage the survey's external validity. External validity might also be harmed if Hertz used data from only one location, as it might not be representative of the entire population."
      ]
    },
    {
      "cell_type": "markdown",
      "metadata": {
        "id": "lncOwqNlLVBg"
      },
      "source": [
        "### 1c\n",
        "\n",
        "Compute the Net Promoter Score for Hertz.\n",
        "(Important: in class, we saw NPS defined for a scale from 0-10. The scale in the Hertz data is only from 0-9. Hertz defines promoters as people who answered 8-9, neutrals as people who answered 6-7, and detractors as people who answered 0-5.)\n",
        "\n",
        "----\n"
      ]
    },
    {
      "cell_type": "markdown",
      "metadata": {
        "id": "XtZ4ok1UtuiR"
      },
      "source": [
        "*   NPS = % of promoters - % of detractors\n",
        "*   Num. of 8-9 responses = 2,085. Num. of 0-5 responses = 378. Total responses = 3,000.\n",
        "*    NPS = (2,085/3,000) - (378/3,000) = 69.5% - 12.6%. NPS = 56.9 (an excellent score)"
      ]
    },
    {
      "cell_type": "markdown",
      "metadata": {
        "id": "OdI6aP8lT9bF"
      },
      "source": [
        "### 1d.\n",
        "\n",
        "Hertz suspects that whether someone is a promoter, neutral, or a detractor may depend on whether their purpose of travel was business or personal. Conduct a hypothesis test to test, at the 0.05 significance level, whether someone’s “NPS status” (i.e., promoter, neutral, or detractor) depends on their Purpose_of_Rental. For this question, you should ignore Purpose_of_Rental = Loaner. Provide the null and alternative hypotheses, relevant test statistic, p-value, and your conclusion. When stating your conclusion, make sure to explain the \"so what?\" of your result, in a way that a non-technical manager could understand.\n",
        "\n",
        "---\n"
      ]
    },
    {
      "cell_type": "code",
      "execution_count": null,
      "metadata": {
        "colab": {
          "base_uri": "https://localhost:8080/"
        },
        "id": "TRTKclLTuiUC",
        "outputId": "0fb4335b-4433-4e8e-fac5-1292d62b9ee9",
        "vscode": {
          "languageId": "r"
        }
      },
      "outputs": [
        {
          "name": "stdout",
          "output_type": "stream",
          "text": [
            "\n",
            "\tPearson's Chi-squared test\n",
            "\n",
            "data:  contingency_table\n",
            "X-squared = 25.906, df = 9, p-value = 0.002117\n",
            "\n"
          ]
        }
      ],
      "source": [
        "# Read the data\n",
        "hertz <- read.csv(\"/content/sample_data/hertz.csv\")\n",
        "\n",
        "# Assuming your data frame is named 'data'\n",
        "# Filter out Purpose_of_Rental = Loaner\n",
        "Loaner <- subset(hertz, Purpose_of_Rental != \"Loaner\")\n",
        "\n",
        "# Create a contingency table\n",
        "contingency_table <- table(Loaner$Recommend_Hertz, Loaner$Purpose_of_Rental)\n",
        "\n",
        "# Perform chi-squared test\n",
        "chi_squared_result <- chisq.test(contingency_table)\n",
        "\n",
        "# Print the results\n",
        "print(chi_squared_result)"
      ]
    },
    {
      "cell_type": "markdown",
      "metadata": {
        "id": "etTUpxuSvr6d"
      },
      "source": [
        "Null Hypothesis:\n",
        "*   ​The distribution of NPS status (promoter, neutral, detractor) is independent of Purpose_of_Rental.\n",
        "\n",
        "Alternate Hypothesis:\n",
        "*   ​The distribution of NPS status depends on Purpose_of_Rental.\n",
        "\n",
        "Pearson's Chi-squared test\n",
        "\n",
        "data:  contingency_table\n",
        "X-squared = 25.906, df = 9, p-value = 0.002117\n",
        "\n",
        "The p-value of 0.002117 is less than the significance level of 0.05. Therefore We reject the null hypothesis. This means that there is a significance between the NPS Status and the Purpose of Rental. The purpose of rental, business or personal is linked to how customers are to the recommended Hertz.\n",
        "\n",
        "For a non-technical manager: The manager can tailor the cusotmer service, marketing, or loyalty programs from the Puropose of Rental. Being either a business or personal customer can influence the different types of marketing strategies to use so that overall cusotmer satisfaction and the NPS score increases in the near future.\n",
        "\n",
        "\n"
      ]
    },
    {
      "cell_type": "markdown",
      "metadata": {
        "id": "YR9wtoqrUG4G"
      },
      "source": [
        "### 1e.\n",
        "\n",
        "Building on the previous question, Hertz suspects that there is a lower fraction of promoters among business travelers, than among personal travelers. Conduct a hypothesis test to test this, at the 0.05 significance level. Provide the null and alternative hypotheses, relevant test statistic, p-value, and your conclusion. When stating your conclusion, make sure to explain the \"so what?\" of your result, in a way that a non-technical manager could understand.\n",
        "\n",
        "---\n"
      ]
    },
    {
      "cell_type": "code",
      "execution_count": null,
      "metadata": {
        "colab": {
          "base_uri": "https://localhost:8080/"
        },
        "id": "1rI-sg-m-W03",
        "outputId": "844ef7a7-491f-4954-97ab-064956a1e1ae",
        "vscode": {
          "languageId": "r"
        }
      },
      "outputs": [
        {
          "name": "stdout",
          "output_type": "stream",
          "text": [
            "\n",
            "\t2-sample test for equality of proportions without continuity correction\n",
            "\n",
            "data:  c(sum(business_data$Recommend_Hertz %in% c(8, 9)), sum(personal_data$Recommend_Hertz %in% c(8, 9))) out of c(nrow(business_data), nrow(personal_data))\n",
            "X-squared = 11.716, df = 1, p-value = 0.0003099\n",
            "alternative hypothesis: less\n",
            "95 percent confidence interval:\n",
            " -1.00000000 -0.03021472\n",
            "sample estimates:\n",
            "   prop 1    prop 2 \n",
            "0.6679128 0.7257598 \n",
            "\n"
          ]
        }
      ],
      "source": [
        "# Subset data for business and personal travelers\n",
        "business_data <- subset(Loaner, Purpose_of_Rental == \"Business\")\n",
        "personal_data <- subset(Loaner, Purpose_of_Rental == \"Personal\")\n",
        "\n",
        "# Calculate proportions of promoters\n",
        "prop_promoters_business <- sum(business_data$Recommend_Hertz %in% c(8, 9)) / nrow(business_data)\n",
        "prop_promoters_personal <- sum(personal_data$Recommend_Hertz %in% c(8, 9)) / nrow(personal_data)\n",
        "\n",
        "# Perform z-test for comparing proportions\n",
        "prop_test_result <- prop.test(x = c(sum(business_data$Recommend_Hertz %in% c(8, 9)), sum(personal_data$Recommend_Hertz %in% c(8, 9))),\n",
        "                              n = c(nrow(business_data), nrow(personal_data)),\n",
        "                              alternative = \"less\", correct = FALSE)\n",
        "\n",
        "# Print the results\n",
        "print(prop_test_result)"
      ]
    },
    {
      "cell_type": "markdown",
      "metadata": {
        "id": "SyKWtjRh3UpI"
      },
      "source": [
        "Null Hypothesis:\n",
        "\n",
        "The proportion of promoters among business travelers is equal to or higher than the proportion among personal travelers.\n",
        "\n",
        "Alternate Hypotheiss:\n",
        "The proportion of promoters among business travelers is lower than the proportion among personal travelers.\n",
        "\n",
        "\n",
        "\n",
        "2-sample test for equality of proportions without continuity correction\n",
        "\n",
        "X-squared = 11.716, df = 1, p-value = 0.0003099\n",
        "less 95 percent confidence interval:\n",
        " -1.00000000 -0.03021472\n",
        "sample estimates:\n",
        "   prop 1    prop 2\n",
        "0.6679128 0.7257598\n",
        "\n",
        "The p-value is less than 0.05, so we reject the idea that the proportion of promoters among business travelers is equal to or higher than the proportion among personal travelers. There is evidence that the proportion of promoters among business travelers is less than the proportion among personal travelers.\n",
        "\n",
        "For a non-technical Manager:\n",
        "This hypothesis test shows a potential area for improvement in customer satisfaction among business travelers. This can be done through targeted marketing strategies to increase the recommended increase to others."
      ]
    },
    {
      "cell_type": "markdown",
      "metadata": {
        "id": "n88EZM0ZUN2o"
      },
      "source": [
        "### 1f.\n",
        "\n",
        "Hertz also believes that business travelers spend differently than another types of travelers. Conduct a hypothesis test at the 0.05 significance level to see if consumers who traveled for business spent significantly different amounts of money (on average, in USD) than consumers who traveled for personal reasons. Provide the null and alternative hypotheses, relevant test statistic, p-value, and your conclusion. When stating your conclusion, make sure to explain the \"so what?\" of your result, in a way that a non-technical manager could understand.\n",
        "\n",
        "---\n"
      ]
    },
    {
      "cell_type": "code",
      "execution_count": null,
      "metadata": {
        "colab": {
          "base_uri": "https://localhost:8080/"
        },
        "id": "Q0CVU5n5CUdp",
        "outputId": "c53c04bc-7b64-44b7-c718-942b2cf2ac6b",
        "vscode": {
          "languageId": "r"
        }
      },
      "outputs": [
        {
          "name": "stdout",
          "output_type": "stream",
          "text": [
            "\n",
            "\tWelch Two Sample t-test\n",
            "\n",
            "data:  business_data$Total_charges and personal_data$Total_charges\n",
            "t = -3.4917, df = 2401.4, p-value = 0.0004887\n",
            "alternative hypothesis: true difference in means is not equal to 0\n",
            "95 percent confidence interval:\n",
            " -57.43843 -16.12472\n",
            "sample estimates:\n",
            "mean of x mean of y \n",
            " 209.9765  246.7581 \n",
            "\n"
          ]
        }
      ],
      "source": [
        "# Perform t-test for comparing means\n",
        "t_test_result <- t.test(business_data$Total_charges, personal_data$Total_charges)\n",
        "\n",
        "# Print the results\n",
        "print(t_test_result)"
      ]
    },
    {
      "cell_type": "markdown",
      "metadata": {
        "id": "fc7OfL1GCp1Q"
      },
      "source": [
        "Null Hypothesis:\n",
        "The mean spending for business travelers is equal to the mean spending for personal travelers.\n",
        "\n",
        "Alternate Hypothesis:\n",
        "The mean spending for business travelers is significantly different from the mean spending for personal travelers\n",
        "\n",
        "Conclusion: The p-value is less than 0.05, so we reject the idea that the mean spending for business travelers is equal to the mean spending for personal travelers. There is evidence that the mean spending for business travelers is significantly different from the mean spending for personal travelers.\n",
        "\n",
        "For non-technical manager: Business travelers, on average, spend less than personal travelers. Hertz can use this information to tailor pricing strategies or promotions to better suit the spending behaviors of business and personal travelers.\n"
      ]
    },
    {
      "cell_type": "markdown",
      "metadata": {
        "id": "DHvWI5s7UOB4"
      },
      "source": [
        "### 1g.\n",
        "\n",
        "Synthesize your results from the previous three questions to describe business travelers and their relationship with Hertz. As a manager or consultant to Hertz, what would you make of these findings?\n",
        "\n",
        "---"
      ]
    },
    {
      "cell_type": "markdown",
      "metadata": {
        "id": "mMVJv64VEaaS"
      },
      "source": [
        "Net Promoter Score (NPS) and Purpose of Travel:\n",
        "\n",
        "There is a significant association between NPS status (promoter, neutral, detractor) and the purpose of travel (business or personal).\n",
        "The purpose of travel seems to influence the likelihood of someone being a promoter, neutral, or detractor.\n",
        "\n",
        "Net Promoter Score (NPS) and Business vs. Personal Travel:\n",
        "\n",
        "Business travelers have a lower fraction of promoters compared to personal travelers. This implies that business travelers may be less likely to recommend Hertz compared to their personal travel counterparts.\n",
        "\n",
        "Spending Patterns of Business and Personal Travelers:\n",
        "\n",
        "There is a statistically significant difference in spending between business and personal travelers. On average, business travelers spend less than personal travelers.\n",
        "\n",
        "Recommendations:\n",
        "Focus on improving the customer experience for business travelers to enhance\n",
        "\n",
        "1.   Focus on improving the customer experience for business travelers to enhance satisfaction and increase the likelihood of positive recommendations.\n",
        "2.   Tailor services, promotions, and loyalty programs specifically for business travelers to address their unique needs and potentially increase their satisfaction.\n",
        "3. Consider adjusting pricing strategies for business travelers, offering cost-effective options or targeted discounts to attract and retain their business.\n",
        "4. Integrate marketing strategies that highlight the value proposition for both business and personal travelers, emphasizing tailored services and competitive pricing."
      ]
    },
    {
      "cell_type": "markdown",
      "metadata": {
        "id": "umy5QXEpUO3L"
      },
      "source": [
        "### Bonus\n",
        "\n",
        "Bonus (2 points):  When visualizing the relationship between two numeric variables, we often use a scatterplot. However, when those numeric variables are ratings, which can only take on a few values, we often run into a problem.  \n",
        " \n",
        "- Make a scatterplot of the variables Recommend_Hertz vs. Value_for_the_Money. You should notice that you can’t really see much. \n",
        " \n",
        "- Come up with a different visualization that reveals the relationship between these variables. This can be a modification of the scatterplot you just made, or a totally different form of visualization. However, it must show the relationship between value and recommendation, and it must use and display (in some form) the true data. \n",
        "\n",
        "---\n"
      ]
    },
    {
      "cell_type": "code",
      "execution_count": null,
      "metadata": {
        "colab": {
          "base_uri": "https://localhost:8080/",
          "height": 472
        },
        "id": "PwzMED9XLzBi",
        "outputId": "2bcafc35-8cd8-4d93-d22b-0ceb2815e9ab",
        "vscode": {
          "languageId": "r"
        }
      },
      "outputs": [
        {
          "name": "stderr",
          "output_type": "stream",
          "text": [
            "Warning message:\n",
            "“\u001b[1m\u001b[22mRemoved 91 rows containing non-finite values (`stat_sum()`).”\n"
          ]
        },
        {
          "data": {
            "image/png": "[encoded data removed]",
            "text/plain": [
              "plot without title"
            ]
          },
          "metadata": {
            "image/png": {
              "height": 420,
              "width": 420
            }
          },
          "output_type": "display_data"
        }
      ],
      "source": [
        "# Create a scatter plot with counts\n",
        "ggplot(hertz, aes(x = Recommend_Hertz, y = Value_for_the_Money)) +\n",
        "  geom_count() +\n",
        "  labs(title = \"Scatter Plot of Recommendation vs. Value for the Money\",\n",
        "       x = \"Recommendation\",\n",
        "       y = \"Value for the Money\") +\n",
        "  theme_minimal()"
      ]
    },
    {
      "cell_type": "code",
      "execution_count": null,
      "metadata": {
        "colab": {
          "base_uri": "https://localhost:8080/",
          "height": 437
        },
        "id": "S5wVoTT0J1HD",
        "outputId": "64a77500-1fb9-41f7-b6c4-be33ddcc03cd",
        "vscode": {
          "languageId": "r"
        }
      },
      "outputs": [
        {
          "data": {
            "image/png": "[encoded data removed]",
            "text/plain": [
              "plot without title"
            ]
          },
          "metadata": {
            "image/png": {
              "height": 420,
              "width": 420
            }
          },
          "output_type": "display_data"
        }
      ],
      "source": [
        "# Create a grouped bar chart\n",
        "ggplot(hertz, aes(x = Recommend_Hertz, fill = as.factor(Value_for_the_Money))) +\n",
        "  geom_bar(position = \"dodge\", color = \"black\") +\n",
        "  labs(title = \"Relationship between Recommendation and Value for the Money\",\n",
        "       x = \"Recommendation\",\n",
        "       y = \"Count\") +\n",
        "  scale_fill_manual(values = c(\"green\", \"yellow\", \"blue\", \"red\", \"orange\", \"purple\", \"grey\", \"turquoise\", \"pink\", \"brown\")) +\n",
        "  theme_minimal()"
      ]
    },
    {
      "cell_type": "markdown",
      "metadata": {
        "id": "iGhvOrp7UoIB"
      },
      "source": []
    },
    {
      "cell_type": "markdown",
      "metadata": {
        "id": "CSY8XlszQ1Ym"
      },
      "source": [
        "## Question 2\n",
        "This question uses data from a major international video game company, provided to us by WCA. This secure data set is available on Canvas under the Modules tab, and can be downloaded after you have signed the DUA. The sponsoring company has requested we mask its identity in public documents (such as this assignment description), but you will be able to see the company’s identity on Canvas.\n",
        "\n",
        "The company is interested in understanding product usage for their football video game. In particular, they are interested in understanding how real-life football games affect engagement with their product. Data on the number of unique play sessions for their game (the variable numSessions) and the number of NFL football games on a given day (the variable numGames) are contained in the file: nfl_sessions.csv. For convenience, I have also created the variable DayNum, which is simply the number of days since the start of the data, and can be used in your analyses instead of the actual date.\n",
        "\n",
        "Based on the NFL data, answer the following questions:\n"
      ]
    },
    {
      "cell_type": "markdown",
      "metadata": {
        "id": "kpDl3iBuVHW3"
      },
      "source": [
        "### 2a. \n",
        "\n",
        "Create a scatterplot showing the relationship between the number of NFL games (`numGames`) and the number of game sessions (`numSessions`). What patterns, if any, do you notice?\n",
        "\n",
        "---"
      ]
    },
    {
      "cell_type": "code",
      "execution_count": null,
      "metadata": {
        "colab": {
          "base_uri": "https://localhost:8080/",
          "height": 106
        },
        "id": "ZrsONHGEP5_f",
        "outputId": "a06b7a21-c908-4949-d8d9-9106a9530a39",
        "vscode": {
          "languageId": "r"
        }
      },
      "outputs": [
        {
          "ename": "ERROR",
          "evalue": "Error in eval(expr, envir, enclos): object 'nfl' not found\n",
          "output_type": "error",
          "traceback": [
            "Error in eval(expr, envir, enclos): object 'nfl' not found\nTraceback:\n",
            "1. ggplot(nfl, aes(x = numGames, y = numSessions))"
          ]
        }
      ],
      "source": [
        "# Access ggplot to create graphics.\n",
        "library(ggplot2)\n",
        "\n",
        "# Read the data.\n",
        "nfl <- read.csv(\"/content/sample_data/nfl.csv\")\n",
        "\n",
        "# Generate scatterplot.\n",
        "ggplot(nfl, aes(x = numGames, y = numSessions)) +\n",
        "  geom_point() +\n",
        "  labs(title = \"Relationship between NFL Games and Game Sessions\",\n",
        "       x = \"NFL Games\",\n",
        "       y = \"Number of Game Sessions\")"
      ]
    },
    {
      "cell_type": "markdown",
      "metadata": {
        "id": "tHkP2J0sP7Cd"
      },
      "source": [
        "It's difficult to tell, but it appears as if there is little correlation between the number of NFL games and game sessions. Days with a high amount of NFL games seem to have similar corresponding numbers of game sessions as days with little to no NFL games."
      ]
    },
    {
      "cell_type": "markdown",
      "metadata": {
        "id": "gQK_VA-AVHW4"
      },
      "source": [
        "### **2.b**\n",
        "Create a new variable in the data that equals 1 if there is at least one NFL game on a given day, and 0 otherwise. Then, create side-by-side plots to compare the distribution of the number of sessions for days where there was no NFL game, to days where there was at least one NFL game. Interpret the results."
      ]
    },
    {
      "cell_type": "markdown",
      "metadata": {
        "id": "o9z8Lg3YVHXJ"
      },
      "source": [
        "### **2.c**\n",
        "Use an appropriate hypothesis test to see if there are significantly more sessions on days with NFL games, versus days without NFL games. Provide the null and alternative hypotheses, relevant test statistic, p-value, and your conclusion.\n"
      ]
    },
    {
      "cell_type": "markdown",
      "metadata": {
        "id": "CRfQPMzrVHXJ"
      },
      "source": [
        "### **2.d**\n",
        "Presented with your results, your boss claims: “I don’t believe these results, because there is a confounding variable. Football games (almost) always happen on Sundays. Therefore, these results could simply be the effect of Sundays on the number of sessions, not the effect of NFL games. Maybe people just play games more on the weekends!” Is your boss correct? Explain why or why not.\n"
      ]
    },
    {
      "cell_type": "markdown",
      "metadata": {
        "id": "BqmzVGXYVHXJ"
      },
      "source": [
        "### **2.e**\n",
        "In class, we emphasized the importance of thinking “backwards” about marketing research: starting with a decision, then thinking what analyses should be done to support that decision. What decisions could the company be considering to justify the analysis done above?"
      ]
    },
    {
      "cell_type": "markdown",
      "metadata": {
        "id": "i2gW7KbQ-ThU"
      },
      "source": [
        "## Question 3\n",
        "\n",
        "A big fast-food brand has hired a marketing research firm to assess a potential change in the look of its stores. As part of their research, the firm plans to launch a large, representative survey of existing customers, to assess their reactions to the new concept. Since the associates of the marketing research firm took Data and Analysis for Marketing Decisions, they very sensibly chose to first launch a pre-test of their survey, to check for any possible issues.\n",
        "\n",
        "Specifically, the firm asked each respondent the following questions in a random order, where a label for each is given in brackets:\n",
        "\n",
        "- `Freq`: How often do you typically eat at our restaurants in a given month?\n",
        "(1 time) (2-3 times) (4-6 times) (7-10 times) (More than 10 times)\n",
        "- `DinExp`: How would you rate your most recent experience dining at our restaurants?\n",
        "(Terrible) (Bad) (Satisfactory) (Good) (Excellent)\n",
        "- `Store`: If both were equally convenient, would you prefer to dine at a restaurant with the new look, or with the existing look?\n",
        "(New look) (Existing look)\n",
        "\n",
        "The results of this pre-test survey, conducted with a random sample of 200 existing customers, are contained in the file look_survey.csv. The data key is in the file look_survey_key.pdf. Based on this data, please answer the following questions:\n"
      ]
    },
    {
      "cell_type": "markdown",
      "metadata": {
        "id": "lM6NgB4pWW12"
      },
      "source": [
        "### 3a.\n",
        "\n",
        "Construct three pivot tables (or in R, tables), that show the distributions of (i) `Freq` and `Store`, (ii) `DinExp` and `Store`, (iii) and `Freq` and `DinExp`. What do you notice about the relationships between these three questions? What does that imply about the company’s customers?\n",
        "\n",
        "---"
      ]
    },
    {
      "cell_type": "code",
      "execution_count": null,
      "metadata": {
        "colab": {
          "base_uri": "https://localhost:8080/",
          "height": 193
        },
        "id": "UQ8qEOB0sQLE",
        "outputId": "b21d9595-8058-40c0-ea70-a6d3ce8e5ec9",
        "vscode": {
          "languageId": "r"
        }
      },
      "outputs": [
        {
          "name": "stderr",
          "output_type": "stream",
          "text": [
            "Warning message in file(file, \"rt\"):\n",
            "“cannot open file '/content/look_survey.csv': No such file or directory”\n"
          ]
        },
        {
          "ename": "ERROR",
          "evalue": "Error in file(file, \"rt\"): cannot open the connection\n",
          "output_type": "error",
          "traceback": [
            "Error in file(file, \"rt\"): cannot open the connection\nTraceback:\n",
            "1. read.csv(\"/content/look_survey.csv\")",
            "2. read.table(file = file, header = header, sep = sep, quote = quote, \n .     dec = dec, fill = fill, comment.char = comment.char, ...)",
            "3. file(file, \"rt\")"
          ]
        }
      ],
      "source": [
        "# Read the data\n",
        "survey <- read.csv(\"/content/look_survey.csv\")\n",
        "\n",
        "# Create three pivot tables\n",
        "Freq_Store <- table(survey$Freq_Response, survey$Store_Response)\n",
        "DinExp_Store <- table(survey$DinExp_Response, survey$Store_Response)\n",
        "Freq_DinExp <- table(survey$Freq_Response, survey$DinExp_Response)\n",
        "\n",
        "# Print the pivot tables\n",
        "Freq_Store\n",
        "DinExp_Store\n",
        "Freq_DinExp"
      ]
    },
    {
      "cell_type": "markdown",
      "metadata": {
        "id": "NPYP664MWW2H"
      },
      "source": [
        "### 3b.\n",
        "\n",
        "The researchers want to understand whether the order the questions were shown changed the answers given to the question “Store.” To answer their question, conduct an appropriate hypothesis test. Describe the null and alternative hypotheses, the relevant test statistic, the P-value, and your conclusions.\n",
        "\n",
        "---"
      ]
    },
    {
      "cell_type": "code",
      "execution_count": null,
      "metadata": {
        "colab": {
          "base_uri": "https://localhost:8080/",
          "height": 139
        },
        "id": "CKE85dyIwwXg",
        "outputId": "1b0e019e-8f1a-4b77-a5b6-b341773b306b",
        "vscode": {
          "languageId": "r"
        }
      },
      "outputs": [
        {
          "name": "stdout",
          "output_type": "stream",
          "text": [
            "\n",
            "\tPearson's Chi-squared test\n",
            "\n",
            "data:  contingency_table\n",
            "X-squared = 18.404, df = 5, p-value = 0.00248\n",
            "\n"
          ]
        },
        {
          "data": {
            "text/html": [
              "'We reject the null hypothesis and conclude that the order of the questions significantly affects the answers given to the question.'"
            ],
            "text/latex": [
              "'We reject the null hypothesis and conclude that the order of the questions significantly affects the answers given to the question.'"
            ],
            "text/markdown": [
              "'We reject the null hypothesis and conclude that the order of the questions significantly affects the answers given to the question.'"
            ],
            "text/plain": [
              "[1] \"We reject the null hypothesis and conclude that the order of the questions significantly affects the answers given to the question.\""
            ]
          },
          "metadata": {},
          "output_type": "display_data"
        }
      ],
      "source": [
        "# Create a contingency table of the question order and the store response\n",
        "contingency_table <- table(survey$Order, survey$Store_Response)\n",
        "\n",
        "# Conduct a chi-square test of independence\n",
        "chisq_test <- chisq.test(contingency_table)\n",
        "\n",
        "# Print the results of the test\n",
        "print(chisq_test)\n",
        "\n",
        "# Conclusion\n",
        "if (chisq_test$p.value < 0.05) {\n",
        "  c(\"We reject the null hypothesis and conclude that the order of the questions significantly affects the answers given to the question.\")\n",
        "} else {\n",
        "  c(\"We fail to reject the null hypothesis and conclude that there is not enough evidence to suggest that the order of the questions significantly affects the answers given to the question.\")\n",
        "}\n"
      ]
    },
    {
      "cell_type": "markdown",
      "metadata": {
        "id": "o-xLz6UBWW2H"
      },
      "source": [
        "### 3c.\n",
        "\n",
        "Intuitively (that is, not statistically), which of the other two questions do you think is driving the order effect? Said differently: if the researchers changed the placement of either the Freq or DinExp question, from coming before the Store question to coming after, which do you think would have a bigger effect? Explain (intuitively).\n",
        "\n",
        "---"
      ]
    },
    {
      "cell_type": "markdown",
      "metadata": {
        "id": "rXN_x-CT0Dhu"
      },
      "source": [
        "Intuitively, the frequency question is most likely to be driving the order effect. As seen in the first pivot table, customers who reported going to resturants more often were more likely to want to go to a resturant with an existing look whereas customers who reported going to resturants less often were more likely to want to go to a resturant with a new look. This could be driving the ordering bias because if I've already established that I don't go to man resturants, that could implicitly lead me to seek something new."
      ]
    },
    {
      "cell_type": "markdown",
      "metadata": {
        "id": "o9b68X1WWW2H"
      },
      "source": [
        "### 3d.\n",
        "\n",
        "Implement a hypothesis test that tests this intuition. Describe the null and alternative hypotheses, the relevant test statistic, the P-value, and your conclusions.\n",
        "\n",
        "---"
      ]
    },
    {
      "cell_type": "code",
      "execution_count": null,
      "metadata": {
        "colab": {
          "base_uri": "https://localhost:8080/",
          "height": 139
        },
        "id": "QvMlfgpk2Ewn",
        "outputId": "e9bdf67a-ed6b-4c4e-8aed-bbff3fdcb181",
        "vscode": {
          "languageId": "r"
        }
      },
      "outputs": [
        {
          "name": "stdout",
          "output_type": "stream",
          "text": [
            "\n",
            "\tPearson's Chi-squared test\n",
            "\n",
            "data:  contingency_table\n",
            "X-squared = 13.274, df = 4, p-value = 0.01001\n",
            "\n"
          ]
        },
        {
          "data": {
            "text/html": [
              "'We reject the null hypothesis and conclude that the Freq question significantly affects the answers given to the question.'"
            ],
            "text/latex": [
              "'We reject the null hypothesis and conclude that the Freq question significantly affects the answers given to the question.'"
            ],
            "text/markdown": [
              "'We reject the null hypothesis and conclude that the Freq question significantly affects the answers given to the question.'"
            ],
            "text/plain": [
              "[1] \"We reject the null hypothesis and conclude that the Freq question significantly affects the answers given to the question.\""
            ]
          },
          "metadata": {},
          "output_type": "display_data"
        }
      ],
      "source": [
        "# Create a contingency table of the Freq question and the store response\n",
        "contingency_table <- table(survey$Freq_Response, survey$Store_Response)\n",
        "\n",
        "# Conduct a chi-square test of independence\n",
        "chisq_test <- chisq.test(contingency_table)\n",
        "\n",
        "# Print the results of the test\n",
        "print(chisq_test)\n",
        "\n",
        "# Conclusion\n",
        "if (chisq_test$p.value < 0.05) {\n",
        "  c(\"We reject the null hypothesis and conclude that the Freq question significantly affects the answers given to the question.\")\n",
        "} else {\n",
        "  c(\"We fail to reject the null hypothesis and conclude that there is not enough evidence to suggest that the Freq question significantly affects the answers given to the question.\")\n",
        "}\n"
      ]
    }
  ],
  "metadata": {
    "colab": {
      "provenance": []
    },
    "kernelspec": {
      "display_name": "R",
      "name": "ir"
    },
    "language_info": {
      "name": "R"
    }
  },
  "nbformat": 4,
  "nbformat_minor": 0
}
