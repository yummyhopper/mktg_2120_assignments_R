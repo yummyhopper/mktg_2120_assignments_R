{
  "cells": [
    {
      "cell_type": "markdown",
      "metadata": {
        "id": "gvi8-XwBSt5P"
      },
      "source": [
        "# MKTG 2120 Homework 2"
      ]
    },
    {
      "cell_type": "markdown",
      "metadata": {
        "id": "1ctBBzyVjohA"
      },
      "source": [
        "## Question 1 "
      ]
    },
    {
      "cell_type": "markdown",
      "metadata": {},
      "source": [
        "In this question, we will revisit the Hertz data from Assignment 1. This secure data set is\n",
        "available on Canvas under the Modules tab, and can be downloaded after you have signed the\n",
        "DUA.\n",
        "\n",
        "---"
      ]
    },
    {
      "cell_type": "markdown",
      "metadata": {
        "id": "zpU3DFGLS2IP"
      },
      "source": [
        "### 1a."
      ]
    },
    {
      "cell_type": "markdown",
      "metadata": {},
      "source": [
        "Using multiple regression, regress Recommend_Hertz on:\n",
        "- the other survey questions (i.e., those that are highlighted in the data key)\n",
        "- the total cost of the rental (total_charge_USD), and\n",
        "- the difference (in days) between when people returned the car and when they filled out the survey (Survey_checkout_diff).\n",
        "\n",
        "Report the model results. Then, list the variables in order of importance. Finally,\n",
        "interpret the results, both statistically and managerially. What do you conclude about\n",
        "which variables are predictive of recommending Hertz? How could Hertz use this\n",
        "information?\n",
        "(Hint: Before running the analysis, you should remove any rows that have a blank for any\n",
        "one of your variables. You can do this using the filter function in Excel. Otherwise, you may\n",
        "get an error.)\n",
        "\n",
        "---"
      ]
    },
    {
      "cell_type": "code",
      "execution_count": null,
      "metadata": {
        "id": "7Rnb93LEFXD6",
        "vscode": {
          "languageId": "r"
        }
      },
      "outputs": [],
      "source": [
        "library(readr)\n",
        "library(tidyverse)"
      ]
    },
    {
      "cell_type": "code",
      "execution_count": null,
      "metadata": {
        "colab": {
          "base_uri": "https://localhost:8080/",
          "height": 524
        },
        "id": "ieQlvbcMFfKX",
        "outputId": "7e641716-cd03-44f6-9389-4b61b1dffd4e",
        "vscode": {
          "languageId": "r"
        }
      },
      "outputs": [
        {
          "data": {
            "text/plain": [
              "\n",
              "Call:\n",
              "lm(formula = Recommend_Hertz ~ scale(Staff_Courtesy) + scale(Speed_of_Service) + \n",
              "    scale(Veh_Equip_Condition) + scale(Trans_Billing_as_Expected) + \n",
              "    scale(Value_for_the_Money) + scale(Total_charge_USD) + scale(Survey_checkout_diff), \n",
              "    data = hertz)\n",
              "\n",
              "Residuals:\n",
              "    Min      1Q  Median      3Q     Max \n",
              "-9.0683 -0.2346 -0.0550  0.5341  6.4243 \n",
              "\n",
              "Coefficients:\n",
              "                                 Estimate Std. Error t value Pr(>|t|)    \n",
              "(Intercept)                       7.66148    0.02220 345.180   <2e-16 ***\n",
              "scale(Staff_Courtesy)             0.44637    0.03141  14.212   <2e-16 ***\n",
              "scale(Speed_of_Service)           0.27178    0.03062   8.876   <2e-16 ***\n",
              "scale(Veh_Equip_Condition)        0.39187    0.02688  14.576   <2e-16 ***\n",
              "scale(Trans_Billing_as_Expected)  0.37642    0.02946  12.779   <2e-16 ***\n",
              "scale(Value_for_the_Money)        0.66977    0.03138  21.345   <2e-16 ***\n",
              "scale(Total_charge_USD)           0.03360    0.02241   1.499    0.134    \n",
              "scale(Survey_checkout_diff)       0.02071    0.02257   0.918    0.359    \n",
              "---\n",
              "Signif. codes:  0 ‘***’ 0.001 ‘**’ 0.01 ‘*’ 0.05 ‘.’ 0.1 ‘ ’ 1\n",
              "\n",
              "Residual standard error: 1.197 on 2901 degrees of freedom\n",
              "  (91 observations deleted due to missingness)\n",
              "Multiple R-squared:  0.661,\tAdjusted R-squared:  0.6602 \n",
              "F-statistic: 808.1 on 7 and 2901 DF,  p-value: < 2.2e-16\n"
            ]
          },
          "metadata": {},
          "output_type": "display_data"
        }
      ],
      "source": [
        "# Run multiple regression with standardized independent variables\n",
        "hertz <- read.csv(\"/content/hertz.csv\")\n",
        "hertz_reg <- lm(Recommend_Hertz ~ scale(Staff_Courtesy)\n",
        "                + scale(Speed_of_Service)\n",
        "                + scale(Veh_Equip_Condition)\n",
        "                + scale(Trans_Billing_as_Expected)\n",
        "                + scale(Value_for_the_Money)\n",
        "                + scale(Total_charge_USD)\n",
        "                + scale(Survey_checkout_diff), data = hertz)\n",
        "summary(hertz_reg)"
      ]
    },
    {
      "cell_type": "markdown",
      "metadata": {
        "id": "FcI9yUIaGYWM"
      },
      "source": [
        "Variables in order of importance:\n",
        "1.   Value for the money\n",
        "2.   Staff courtesy\n",
        "3.   Vehicle condition\n",
        "4.   Transaction/billing as expected\n",
        "5.   Speed of service\n",
        "6.   Total charges\n",
        "7.   Survey-checkout difference\n",
        "\n",
        "Statistical interpretation:\n",
        "*   In this case, the intercept represents the value of recommend Hertz when all of the standardized independent variables are equal to zero standard deviations. Therefore, it is the mean of the recommend Hertz scale. Each independent variable has been standardized because the variables with scales have different units than those with price or days.\n",
        "*  A one standard deviation change in the standardized “value for the money” variable is associated with a 0.67 standard deviation increase in the recommend Hertz scale, holding all other variables constant. Relative to their individual coefficients, the same is true for each of the IVs that involve a subjective scale (variables 1 through 5 in importance)→  each of their coefficients are positive because an increase in satisfaction for any of the scales would only increase overall satisfaction.\n",
        "*   The p-values (0.134 and 0.359, respectively) of the total charges and survey-checkout difference variables suggest that there is weak evidence to reject the null hypotheses that their coefficients are equal to zero. There is weak evidence to suggest that they have a significant effect on the recommend Hertz score.\n",
        "*   As for the model itself, the F-statistic and its low p-value (p < 0.05) implies that at least one of the independent variables has a statistically significant impact on the recommend Hertz dependent variable. The adjusted R-squared value indicates that 0.66 of the variance in the recommend Hertz score can be explained by the IVs.\n",
        "*   Looking at the predictors, it is clear that customer service and vehicle performance are the biggest indicators of recommendation. Hence, as a manager, it is important to make sure that each vehicle is functioning, and that employees are accommodating and helpful. It seems as if total charge is not a significant predictor of recommendation, as long as customers feel they have received solid value for their money. This data tells us that customers aren’t necessarily as worried about the dollar amount of the price itself, but about experiencing as few bumps in the road as possible. Hertz could use this data to invest more in employee training programs and newer car models, which would help customers feel like they are getting the most bang for their buck.\n"
      ]
    },
    {
      "cell_type": "markdown",
      "metadata": {
        "id": "2UQMgLwTTpng"
      },
      "source": [
        "### 1b."
      ]
    },
    {
      "cell_type": "markdown",
      "metadata": {},
      "source": [
        "Is there any issue with multicollinearity in your analysis? (2 points)\n",
        "\n",
        "---"
      ]
    },
    {
      "cell_type": "code",
      "execution_count": null,
      "metadata": {
        "colab": {
          "base_uri": "https://localhost:8080/",
          "height": 1000
        },
        "id": "729zU-mBICrK",
        "outputId": "ea18dc86-98cd-498a-b56b-ac3b525313f7",
        "vscode": {
          "languageId": "r"
        }
      },
      "outputs": [
        {
          "data": {
            "text/html": [
              "<table class=\"dataframe\">\n",
              "<caption>A data.frame: 3000 × 8</caption>\n",
              "<thead>\n",
              "\t<tr><th></th><th scope=col>Recommend_Hertz</th><th scope=col>Staff_Courtesy</th><th scope=col>Speed_of_Service</th><th scope=col>Veh_Equip_Condition</th><th scope=col>Trans_Billing_as_Expected</th><th scope=col>Value_for_the_Money</th><th scope=col>Total_charge_USD</th><th scope=col>Survey_checkout_diff</th></tr>\n",
              "\t<tr><th></th><th scope=col>&lt;int&gt;</th><th scope=col>&lt;int&gt;</th><th scope=col>&lt;int&gt;</th><th scope=col>&lt;int&gt;</th><th scope=col>&lt;int&gt;</th><th scope=col>&lt;int&gt;</th><th scope=col>&lt;dbl&gt;</th><th scope=col>&lt;int&gt;</th></tr>\n",
              "</thead>\n",
              "<tbody>\n",
              "\t<tr><th scope=row>1</th><td>7</td><td> 9</td><td> 0</td><td> 7</td><td> 7</td><td> 7</td><td>  63.84</td><td> 3</td></tr>\n",
              "\t<tr><th scope=row>2</th><td>9</td><td> 9</td><td> 9</td><td> 9</td><td> 9</td><td> 9</td><td> 216.98</td><td> 5</td></tr>\n",
              "\t<tr><th scope=row>3</th><td>9</td><td>NA</td><td>NA</td><td>NA</td><td>NA</td><td>NA</td><td>  48.52</td><td> 2</td></tr>\n",
              "\t<tr><th scope=row>4</th><td>9</td><td> 9</td><td> 9</td><td> 9</td><td> 9</td><td> 9</td><td> 326.09</td><td> 2</td></tr>\n",
              "\t<tr><th scope=row>5</th><td>9</td><td> 9</td><td> 9</td><td> 8</td><td> 8</td><td> 9</td><td> 188.16</td><td> 2</td></tr>\n",
              "\t<tr><th scope=row>6</th><td>9</td><td> 9</td><td> 9</td><td> 9</td><td> 9</td><td> 9</td><td> 307.54</td><td> 2</td></tr>\n",
              "\t<tr><th scope=row>7</th><td>5</td><td> 9</td><td> 7</td><td> 2</td><td> 5</td><td> 4</td><td> 273.63</td><td> 3</td></tr>\n",
              "\t<tr><th scope=row>8</th><td>9</td><td> 8</td><td> 8</td><td> 9</td><td> 8</td><td> 8</td><td>  48.85</td><td>24</td></tr>\n",
              "\t<tr><th scope=row>9</th><td>8</td><td> 8</td><td> 6</td><td> 8</td><td> 7</td><td> 7</td><td> 496.26</td><td> 2</td></tr>\n",
              "\t<tr><th scope=row>10</th><td>6</td><td> 8</td><td> 8</td><td> 7</td><td> 8</td><td> 7</td><td>  59.41</td><td> 4</td></tr>\n",
              "\t<tr><th scope=row>11</th><td>9</td><td> 9</td><td> 9</td><td> 7</td><td> 9</td><td> 9</td><td> 229.65</td><td> 2</td></tr>\n",
              "\t<tr><th scope=row>12</th><td>2</td><td> 1</td><td> 1</td><td> 4</td><td> 4</td><td> 7</td><td>   0.00</td><td> 2</td></tr>\n",
              "\t<tr><th scope=row>13</th><td>8</td><td> 8</td><td> 8</td><td> 8</td><td> 8</td><td> 6</td><td> 206.73</td><td> 2</td></tr>\n",
              "\t<tr><th scope=row>14</th><td>8</td><td> 7</td><td> 8</td><td> 8</td><td> 0</td><td> 6</td><td> 226.99</td><td> 5</td></tr>\n",
              "\t<tr><th scope=row>15</th><td>9</td><td> 9</td><td> 9</td><td> 9</td><td> 9</td><td> 9</td><td>  49.24</td><td> 2</td></tr>\n",
              "\t<tr><th scope=row>16</th><td>9</td><td> 9</td><td> 9</td><td> 9</td><td> 9</td><td> 9</td><td> 126.90</td><td> 2</td></tr>\n",
              "\t<tr><th scope=row>17</th><td>9</td><td> 9</td><td> 9</td><td> 9</td><td> 9</td><td> 9</td><td> 470.35</td><td> 2</td></tr>\n",
              "\t<tr><th scope=row>18</th><td>8</td><td> 8</td><td> 8</td><td> 4</td><td> 8</td><td> 9</td><td> 149.38</td><td>12</td></tr>\n",
              "\t<tr><th scope=row>19</th><td>7</td><td> 9</td><td> 9</td><td> 9</td><td> 9</td><td> 8</td><td> 312.99</td><td> 3</td></tr>\n",
              "\t<tr><th scope=row>20</th><td>9</td><td> 9</td><td> 9</td><td> 9</td><td> 9</td><td> 9</td><td> 213.51</td><td> 2</td></tr>\n",
              "\t<tr><th scope=row>21</th><td>9</td><td> 9</td><td> 9</td><td> 9</td><td> 9</td><td> 8</td><td> 175.21</td><td> 2</td></tr>\n",
              "\t<tr><th scope=row>22</th><td>8</td><td> 7</td><td> 8</td><td> 8</td><td> 8</td><td> 5</td><td>  72.47</td><td> 3</td></tr>\n",
              "\t<tr><th scope=row>23</th><td>9</td><td> 9</td><td> 9</td><td> 7</td><td> 9</td><td> 9</td><td> 197.63</td><td> 3</td></tr>\n",
              "\t<tr><th scope=row>24</th><td>8</td><td> 9</td><td> 9</td><td> 8</td><td> 9</td><td> 6</td><td> 184.61</td><td> 2</td></tr>\n",
              "\t<tr><th scope=row>25</th><td>7</td><td> 8</td><td> 9</td><td> 7</td><td> 8</td><td> 6</td><td>2673.17</td><td> 3</td></tr>\n",
              "\t<tr><th scope=row>26</th><td>7</td><td> 2</td><td> 4</td><td> 8</td><td> 3</td><td> 4</td><td>  62.02</td><td>24</td></tr>\n",
              "\t<tr><th scope=row>27</th><td>9</td><td> 9</td><td> 9</td><td> 8</td><td> 9</td><td> 9</td><td> 206.03</td><td> 5</td></tr>\n",
              "\t<tr><th scope=row>28</th><td>8</td><td> 9</td><td> 9</td><td> 9</td><td> 7</td><td> 7</td><td> 946.88</td><td>12</td></tr>\n",
              "\t<tr><th scope=row>29</th><td>9</td><td> 9</td><td> 9</td><td> 9</td><td> 9</td><td> 9</td><td> 112.55</td><td> 2</td></tr>\n",
              "\t<tr><th scope=row>30</th><td>9</td><td> 9</td><td> 9</td><td> 9</td><td> 9</td><td> 9</td><td> 155.66</td><td> 2</td></tr>\n",
              "\t<tr><th scope=row>⋮</th><td>⋮</td><td>⋮</td><td>⋮</td><td>⋮</td><td>⋮</td><td>⋮</td><td>⋮</td><td>⋮</td></tr>\n",
              "\t<tr><th scope=row>2971</th><td>9</td><td>9</td><td>9</td><td>9</td><td>9</td><td>3</td><td>1230.71</td><td> 2</td></tr>\n",
              "\t<tr><th scope=row>2972</th><td>6</td><td>8</td><td>4</td><td>9</td><td>2</td><td>8</td><td> 120.57</td><td> 5</td></tr>\n",
              "\t<tr><th scope=row>2973</th><td>9</td><td>9</td><td>9</td><td>9</td><td>9</td><td>9</td><td> 152.62</td><td> 4</td></tr>\n",
              "\t<tr><th scope=row>2974</th><td>7</td><td>6</td><td>6</td><td>7</td><td>7</td><td>7</td><td>  80.34</td><td> 2</td></tr>\n",
              "\t<tr><th scope=row>2975</th><td>9</td><td>9</td><td>9</td><td>9</td><td>9</td><td>9</td><td>1087.12</td><td>14</td></tr>\n",
              "\t<tr><th scope=row>2976</th><td>8</td><td>9</td><td>7</td><td>8</td><td>9</td><td>9</td><td> 232.76</td><td> 3</td></tr>\n",
              "\t<tr><th scope=row>2977</th><td>5</td><td>2</td><td>1</td><td>6</td><td>5</td><td>5</td><td>  50.47</td><td> 2</td></tr>\n",
              "\t<tr><th scope=row>2978</th><td>9</td><td>9</td><td>9</td><td>9</td><td>9</td><td>9</td><td> 289.89</td><td> 5</td></tr>\n",
              "\t<tr><th scope=row>2979</th><td>9</td><td>9</td><td>9</td><td>9</td><td>9</td><td>9</td><td> 840.48</td><td> 2</td></tr>\n",
              "\t<tr><th scope=row>2980</th><td>9</td><td>9</td><td>8</td><td>9</td><td>9</td><td>9</td><td>  66.00</td><td> 4</td></tr>\n",
              "\t<tr><th scope=row>2981</th><td>9</td><td>9</td><td>9</td><td>9</td><td>9</td><td>9</td><td> 998.97</td><td>16</td></tr>\n",
              "\t<tr><th scope=row>2982</th><td>8</td><td>8</td><td>9</td><td>9</td><td>9</td><td>9</td><td> 100.99</td><td> 2</td></tr>\n",
              "\t<tr><th scope=row>2983</th><td>8</td><td>8</td><td>6</td><td>7</td><td>9</td><td>9</td><td>  45.51</td><td> 3</td></tr>\n",
              "\t<tr><th scope=row>2984</th><td>9</td><td>9</td><td>9</td><td>9</td><td>9</td><td>9</td><td> 180.81</td><td> 2</td></tr>\n",
              "\t<tr><th scope=row>2985</th><td>9</td><td>8</td><td>8</td><td>6</td><td>8</td><td>7</td><td>1139.30</td><td> 3</td></tr>\n",
              "\t<tr><th scope=row>2986</th><td>9</td><td>7</td><td>8</td><td>6</td><td>8</td><td>8</td><td>  62.16</td><td> 4</td></tr>\n",
              "\t<tr><th scope=row>2987</th><td>9</td><td>9</td><td>9</td><td>9</td><td>9</td><td>9</td><td> 491.78</td><td> 2</td></tr>\n",
              "\t<tr><th scope=row>2988</th><td>9</td><td>9</td><td>9</td><td>9</td><td>9</td><td>9</td><td>  85.98</td><td> 2</td></tr>\n",
              "\t<tr><th scope=row>2989</th><td>9</td><td>9</td><td>7</td><td>8</td><td>9</td><td>9</td><td> 244.14</td><td> 3</td></tr>\n",
              "\t<tr><th scope=row>2990</th><td>9</td><td>8</td><td>7</td><td>6</td><td>9</td><td>8</td><td> 139.87</td><td> 1</td></tr>\n",
              "\t<tr><th scope=row>2991</th><td>7</td><td>9</td><td>9</td><td>7</td><td>9</td><td>5</td><td>  46.46</td><td> 2</td></tr>\n",
              "\t<tr><th scope=row>2992</th><td>7</td><td>5</td><td>7</td><td>5</td><td>7</td><td>5</td><td> 264.92</td><td> 2</td></tr>\n",
              "\t<tr><th scope=row>2993</th><td>7</td><td>8</td><td>3</td><td>6</td><td>7</td><td>7</td><td> 144.13</td><td> 2</td></tr>\n",
              "\t<tr><th scope=row>2994</th><td>9</td><td>9</td><td>9</td><td>9</td><td>9</td><td>7</td><td>  49.07</td><td> 5</td></tr>\n",
              "\t<tr><th scope=row>2995</th><td>9</td><td>9</td><td>9</td><td>9</td><td>9</td><td>9</td><td> 132.50</td><td> 2</td></tr>\n",
              "\t<tr><th scope=row>2996</th><td>8</td><td>7</td><td>8</td><td>8</td><td>8</td><td>8</td><td> 330.17</td><td> 2</td></tr>\n",
              "\t<tr><th scope=row>2997</th><td>4</td><td>4</td><td>2</td><td>8</td><td>2</td><td>3</td><td> 271.39</td><td> 2</td></tr>\n",
              "\t<tr><th scope=row>2998</th><td>9</td><td>9</td><td>9</td><td>9</td><td>9</td><td>9</td><td> 908.34</td><td> 3</td></tr>\n",
              "\t<tr><th scope=row>2999</th><td>9</td><td>9</td><td>9</td><td>9</td><td>8</td><td>9</td><td>  44.93</td><td> 2</td></tr>\n",
              "\t<tr><th scope=row>3000</th><td>9</td><td>9</td><td>9</td><td>7</td><td>9</td><td>9</td><td>   0.00</td><td>21</td></tr>\n",
              "</tbody>\n",
              "</table>\n"
            ],
            "text/latex": [
              "A data.frame: 3000 × 8\n",
              "\\begin{tabular}{r|llllllll}\n",
              "  & Recommend\\_Hertz & Staff\\_Courtesy & Speed\\_of\\_Service & Veh\\_Equip\\_Condition & Trans\\_Billing\\_as\\_Expected & Value\\_for\\_the\\_Money & Total\\_charge\\_USD & Survey\\_checkout\\_diff\\\\\n",
              "  & <int> & <int> & <int> & <int> & <int> & <int> & <dbl> & <int>\\\\\n",
              "\\hline\n",
              "\t1 & 7 &  9 &  0 &  7 &  7 &  7 &   63.84 &  3\\\\\n",
              "\t2 & 9 &  9 &  9 &  9 &  9 &  9 &  216.98 &  5\\\\\n",
              "\t3 & 9 & NA & NA & NA & NA & NA &   48.52 &  2\\\\\n",
              "\t4 & 9 &  9 &  9 &  9 &  9 &  9 &  326.09 &  2\\\\\n",
              "\t5 & 9 &  9 &  9 &  8 &  8 &  9 &  188.16 &  2\\\\\n",
              "\t6 & 9 &  9 &  9 &  9 &  9 &  9 &  307.54 &  2\\\\\n",
              "\t7 & 5 &  9 &  7 &  2 &  5 &  4 &  273.63 &  3\\\\\n",
              "\t8 & 9 &  8 &  8 &  9 &  8 &  8 &   48.85 & 24\\\\\n",
              "\t9 & 8 &  8 &  6 &  8 &  7 &  7 &  496.26 &  2\\\\\n",
              "\t10 & 6 &  8 &  8 &  7 &  8 &  7 &   59.41 &  4\\\\\n",
              "\t11 & 9 &  9 &  9 &  7 &  9 &  9 &  229.65 &  2\\\\\n",
              "\t12 & 2 &  1 &  1 &  4 &  4 &  7 &    0.00 &  2\\\\\n",
              "\t13 & 8 &  8 &  8 &  8 &  8 &  6 &  206.73 &  2\\\\\n",
              "\t14 & 8 &  7 &  8 &  8 &  0 &  6 &  226.99 &  5\\\\\n",
              "\t15 & 9 &  9 &  9 &  9 &  9 &  9 &   49.24 &  2\\\\\n",
              "\t16 & 9 &  9 &  9 &  9 &  9 &  9 &  126.90 &  2\\\\\n",
              "\t17 & 9 &  9 &  9 &  9 &  9 &  9 &  470.35 &  2\\\\\n",
              "\t18 & 8 &  8 &  8 &  4 &  8 &  9 &  149.38 & 12\\\\\n",
              "\t19 & 7 &  9 &  9 &  9 &  9 &  8 &  312.99 &  3\\\\\n",
              "\t20 & 9 &  9 &  9 &  9 &  9 &  9 &  213.51 &  2\\\\\n",
              "\t21 & 9 &  9 &  9 &  9 &  9 &  8 &  175.21 &  2\\\\\n",
              "\t22 & 8 &  7 &  8 &  8 &  8 &  5 &   72.47 &  3\\\\\n",
              "\t23 & 9 &  9 &  9 &  7 &  9 &  9 &  197.63 &  3\\\\\n",
              "\t24 & 8 &  9 &  9 &  8 &  9 &  6 &  184.61 &  2\\\\\n",
              "\t25 & 7 &  8 &  9 &  7 &  8 &  6 & 2673.17 &  3\\\\\n",
              "\t26 & 7 &  2 &  4 &  8 &  3 &  4 &   62.02 & 24\\\\\n",
              "\t27 & 9 &  9 &  9 &  8 &  9 &  9 &  206.03 &  5\\\\\n",
              "\t28 & 8 &  9 &  9 &  9 &  7 &  7 &  946.88 & 12\\\\\n",
              "\t29 & 9 &  9 &  9 &  9 &  9 &  9 &  112.55 &  2\\\\\n",
              "\t30 & 9 &  9 &  9 &  9 &  9 &  9 &  155.66 &  2\\\\\n",
              "\t⋮ & ⋮ & ⋮ & ⋮ & ⋮ & ⋮ & ⋮ & ⋮ & ⋮\\\\\n",
              "\t2971 & 9 & 9 & 9 & 9 & 9 & 3 & 1230.71 &  2\\\\\n",
              "\t2972 & 6 & 8 & 4 & 9 & 2 & 8 &  120.57 &  5\\\\\n",
              "\t2973 & 9 & 9 & 9 & 9 & 9 & 9 &  152.62 &  4\\\\\n",
              "\t2974 & 7 & 6 & 6 & 7 & 7 & 7 &   80.34 &  2\\\\\n",
              "\t2975 & 9 & 9 & 9 & 9 & 9 & 9 & 1087.12 & 14\\\\\n",
              "\t2976 & 8 & 9 & 7 & 8 & 9 & 9 &  232.76 &  3\\\\\n",
              "\t2977 & 5 & 2 & 1 & 6 & 5 & 5 &   50.47 &  2\\\\\n",
              "\t2978 & 9 & 9 & 9 & 9 & 9 & 9 &  289.89 &  5\\\\\n",
              "\t2979 & 9 & 9 & 9 & 9 & 9 & 9 &  840.48 &  2\\\\\n",
              "\t2980 & 9 & 9 & 8 & 9 & 9 & 9 &   66.00 &  4\\\\\n",
              "\t2981 & 9 & 9 & 9 & 9 & 9 & 9 &  998.97 & 16\\\\\n",
              "\t2982 & 8 & 8 & 9 & 9 & 9 & 9 &  100.99 &  2\\\\\n",
              "\t2983 & 8 & 8 & 6 & 7 & 9 & 9 &   45.51 &  3\\\\\n",
              "\t2984 & 9 & 9 & 9 & 9 & 9 & 9 &  180.81 &  2\\\\\n",
              "\t2985 & 9 & 8 & 8 & 6 & 8 & 7 & 1139.30 &  3\\\\\n",
              "\t2986 & 9 & 7 & 8 & 6 & 8 & 8 &   62.16 &  4\\\\\n",
              "\t2987 & 9 & 9 & 9 & 9 & 9 & 9 &  491.78 &  2\\\\\n",
              "\t2988 & 9 & 9 & 9 & 9 & 9 & 9 &   85.98 &  2\\\\\n",
              "\t2989 & 9 & 9 & 7 & 8 & 9 & 9 &  244.14 &  3\\\\\n",
              "\t2990 & 9 & 8 & 7 & 6 & 9 & 8 &  139.87 &  1\\\\\n",
              "\t2991 & 7 & 9 & 9 & 7 & 9 & 5 &   46.46 &  2\\\\\n",
              "\t2992 & 7 & 5 & 7 & 5 & 7 & 5 &  264.92 &  2\\\\\n",
              "\t2993 & 7 & 8 & 3 & 6 & 7 & 7 &  144.13 &  2\\\\\n",
              "\t2994 & 9 & 9 & 9 & 9 & 9 & 7 &   49.07 &  5\\\\\n",
              "\t2995 & 9 & 9 & 9 & 9 & 9 & 9 &  132.50 &  2\\\\\n",
              "\t2996 & 8 & 7 & 8 & 8 & 8 & 8 &  330.17 &  2\\\\\n",
              "\t2997 & 4 & 4 & 2 & 8 & 2 & 3 &  271.39 &  2\\\\\n",
              "\t2998 & 9 & 9 & 9 & 9 & 9 & 9 &  908.34 &  3\\\\\n",
              "\t2999 & 9 & 9 & 9 & 9 & 8 & 9 &   44.93 &  2\\\\\n",
              "\t3000 & 9 & 9 & 9 & 7 & 9 & 9 &    0.00 & 21\\\\\n",
              "\\end{tabular}\n"
            ],
            "text/markdown": [
              "\n",
              "A data.frame: 3000 × 8\n",
              "\n",
              "| <!--/--> | Recommend_Hertz &lt;int&gt; | Staff_Courtesy &lt;int&gt; | Speed_of_Service &lt;int&gt; | Veh_Equip_Condition &lt;int&gt; | Trans_Billing_as_Expected &lt;int&gt; | Value_for_the_Money &lt;int&gt; | Total_charge_USD &lt;dbl&gt; | Survey_checkout_diff &lt;int&gt; |\n",
              "|---|---|---|---|---|---|---|---|---|\n",
              "| 1 | 7 |  9 |  0 |  7 |  7 |  7 |   63.84 |  3 |\n",
              "| 2 | 9 |  9 |  9 |  9 |  9 |  9 |  216.98 |  5 |\n",
              "| 3 | 9 | NA | NA | NA | NA | NA |   48.52 |  2 |\n",
              "| 4 | 9 |  9 |  9 |  9 |  9 |  9 |  326.09 |  2 |\n",
              "| 5 | 9 |  9 |  9 |  8 |  8 |  9 |  188.16 |  2 |\n",
              "| 6 | 9 |  9 |  9 |  9 |  9 |  9 |  307.54 |  2 |\n",
              "| 7 | 5 |  9 |  7 |  2 |  5 |  4 |  273.63 |  3 |\n",
              "| 8 | 9 |  8 |  8 |  9 |  8 |  8 |   48.85 | 24 |\n",
              "| 9 | 8 |  8 |  6 |  8 |  7 |  7 |  496.26 |  2 |\n",
              "| 10 | 6 |  8 |  8 |  7 |  8 |  7 |   59.41 |  4 |\n",
              "| 11 | 9 |  9 |  9 |  7 |  9 |  9 |  229.65 |  2 |\n",
              "| 12 | 2 |  1 |  1 |  4 |  4 |  7 |    0.00 |  2 |\n",
              "| 13 | 8 |  8 |  8 |  8 |  8 |  6 |  206.73 |  2 |\n",
              "| 14 | 8 |  7 |  8 |  8 |  0 |  6 |  226.99 |  5 |\n",
              "| 15 | 9 |  9 |  9 |  9 |  9 |  9 |   49.24 |  2 |\n",
              "| 16 | 9 |  9 |  9 |  9 |  9 |  9 |  126.90 |  2 |\n",
              "| 17 | 9 |  9 |  9 |  9 |  9 |  9 |  470.35 |  2 |\n",
              "| 18 | 8 |  8 |  8 |  4 |  8 |  9 |  149.38 | 12 |\n",
              "| 19 | 7 |  9 |  9 |  9 |  9 |  8 |  312.99 |  3 |\n",
              "| 20 | 9 |  9 |  9 |  9 |  9 |  9 |  213.51 |  2 |\n",
              "| 21 | 9 |  9 |  9 |  9 |  9 |  8 |  175.21 |  2 |\n",
              "| 22 | 8 |  7 |  8 |  8 |  8 |  5 |   72.47 |  3 |\n",
              "| 23 | 9 |  9 |  9 |  7 |  9 |  9 |  197.63 |  3 |\n",
              "| 24 | 8 |  9 |  9 |  8 |  9 |  6 |  184.61 |  2 |\n",
              "| 25 | 7 |  8 |  9 |  7 |  8 |  6 | 2673.17 |  3 |\n",
              "| 26 | 7 |  2 |  4 |  8 |  3 |  4 |   62.02 | 24 |\n",
              "| 27 | 9 |  9 |  9 |  8 |  9 |  9 |  206.03 |  5 |\n",
              "| 28 | 8 |  9 |  9 |  9 |  7 |  7 |  946.88 | 12 |\n",
              "| 29 | 9 |  9 |  9 |  9 |  9 |  9 |  112.55 |  2 |\n",
              "| 30 | 9 |  9 |  9 |  9 |  9 |  9 |  155.66 |  2 |\n",
              "| ⋮ | ⋮ | ⋮ | ⋮ | ⋮ | ⋮ | ⋮ | ⋮ | ⋮ |\n",
              "| 2971 | 9 | 9 | 9 | 9 | 9 | 3 | 1230.71 |  2 |\n",
              "| 2972 | 6 | 8 | 4 | 9 | 2 | 8 |  120.57 |  5 |\n",
              "| 2973 | 9 | 9 | 9 | 9 | 9 | 9 |  152.62 |  4 |\n",
              "| 2974 | 7 | 6 | 6 | 7 | 7 | 7 |   80.34 |  2 |\n",
              "| 2975 | 9 | 9 | 9 | 9 | 9 | 9 | 1087.12 | 14 |\n",
              "| 2976 | 8 | 9 | 7 | 8 | 9 | 9 |  232.76 |  3 |\n",
              "| 2977 | 5 | 2 | 1 | 6 | 5 | 5 |   50.47 |  2 |\n",
              "| 2978 | 9 | 9 | 9 | 9 | 9 | 9 |  289.89 |  5 |\n",
              "| 2979 | 9 | 9 | 9 | 9 | 9 | 9 |  840.48 |  2 |\n",
              "| 2980 | 9 | 9 | 8 | 9 | 9 | 9 |   66.00 |  4 |\n",
              "| 2981 | 9 | 9 | 9 | 9 | 9 | 9 |  998.97 | 16 |\n",
              "| 2982 | 8 | 8 | 9 | 9 | 9 | 9 |  100.99 |  2 |\n",
              "| 2983 | 8 | 8 | 6 | 7 | 9 | 9 |   45.51 |  3 |\n",
              "| 2984 | 9 | 9 | 9 | 9 | 9 | 9 |  180.81 |  2 |\n",
              "| 2985 | 9 | 8 | 8 | 6 | 8 | 7 | 1139.30 |  3 |\n",
              "| 2986 | 9 | 7 | 8 | 6 | 8 | 8 |   62.16 |  4 |\n",
              "| 2987 | 9 | 9 | 9 | 9 | 9 | 9 |  491.78 |  2 |\n",
              "| 2988 | 9 | 9 | 9 | 9 | 9 | 9 |   85.98 |  2 |\n",
              "| 2989 | 9 | 9 | 7 | 8 | 9 | 9 |  244.14 |  3 |\n",
              "| 2990 | 9 | 8 | 7 | 6 | 9 | 8 |  139.87 |  1 |\n",
              "| 2991 | 7 | 9 | 9 | 7 | 9 | 5 |   46.46 |  2 |\n",
              "| 2992 | 7 | 5 | 7 | 5 | 7 | 5 |  264.92 |  2 |\n",
              "| 2993 | 7 | 8 | 3 | 6 | 7 | 7 |  144.13 |  2 |\n",
              "| 2994 | 9 | 9 | 9 | 9 | 9 | 7 |   49.07 |  5 |\n",
              "| 2995 | 9 | 9 | 9 | 9 | 9 | 9 |  132.50 |  2 |\n",
              "| 2996 | 8 | 7 | 8 | 8 | 8 | 8 |  330.17 |  2 |\n",
              "| 2997 | 4 | 4 | 2 | 8 | 2 | 3 |  271.39 |  2 |\n",
              "| 2998 | 9 | 9 | 9 | 9 | 9 | 9 |  908.34 |  3 |\n",
              "| 2999 | 9 | 9 | 9 | 9 | 8 | 9 |   44.93 |  2 |\n",
              "| 3000 | 9 | 9 | 9 | 7 | 9 | 9 |    0.00 | 21 |\n",
              "\n"
            ],
            "text/plain": [
              "     Recommend_Hertz Staff_Courtesy Speed_of_Service Veh_Equip_Condition\n",
              "1    7                9              0                7                 \n",
              "2    9                9              9                9                 \n",
              "3    9               NA             NA               NA                 \n",
              "4    9                9              9                9                 \n",
              "5    9                9              9                8                 \n",
              "6    9                9              9                9                 \n",
              "7    5                9              7                2                 \n",
              "8    9                8              8                9                 \n",
              "9    8                8              6                8                 \n",
              "10   6                8              8                7                 \n",
              "11   9                9              9                7                 \n",
              "12   2                1              1                4                 \n",
              "13   8                8              8                8                 \n",
              "14   8                7              8                8                 \n",
              "15   9                9              9                9                 \n",
              "16   9                9              9                9                 \n",
              "17   9                9              9                9                 \n",
              "18   8                8              8                4                 \n",
              "19   7                9              9                9                 \n",
              "20   9                9              9                9                 \n",
              "21   9                9              9                9                 \n",
              "22   8                7              8                8                 \n",
              "23   9                9              9                7                 \n",
              "24   8                9              9                8                 \n",
              "25   7                8              9                7                 \n",
              "26   7                2              4                8                 \n",
              "27   9                9              9                8                 \n",
              "28   8                9              9                9                 \n",
              "29   9                9              9                9                 \n",
              "30   9                9              9                9                 \n",
              "⋮    ⋮               ⋮              ⋮                ⋮                  \n",
              "2971 9               9              9                9                  \n",
              "2972 6               8              4                9                  \n",
              "2973 9               9              9                9                  \n",
              "2974 7               6              6                7                  \n",
              "2975 9               9              9                9                  \n",
              "2976 8               9              7                8                  \n",
              "2977 5               2              1                6                  \n",
              "2978 9               9              9                9                  \n",
              "2979 9               9              9                9                  \n",
              "2980 9               9              8                9                  \n",
              "2981 9               9              9                9                  \n",
              "2982 8               8              9                9                  \n",
              "2983 8               8              6                7                  \n",
              "2984 9               9              9                9                  \n",
              "2985 9               8              8                6                  \n",
              "2986 9               7              8                6                  \n",
              "2987 9               9              9                9                  \n",
              "2988 9               9              9                9                  \n",
              "2989 9               9              7                8                  \n",
              "2990 9               8              7                6                  \n",
              "2991 7               9              9                7                  \n",
              "2992 7               5              7                5                  \n",
              "2993 7               8              3                6                  \n",
              "2994 9               9              9                9                  \n",
              "2995 9               9              9                9                  \n",
              "2996 8               7              8                8                  \n",
              "2997 4               4              2                8                  \n",
              "2998 9               9              9                9                  \n",
              "2999 9               9              9                9                  \n",
              "3000 9               9              9                7                  \n",
              "     Trans_Billing_as_Expected Value_for_the_Money Total_charge_USD\n",
              "1     7                         7                    63.84         \n",
              "2     9                         9                   216.98         \n",
              "3    NA                        NA                    48.52         \n",
              "4     9                         9                   326.09         \n",
              "5     8                         9                   188.16         \n",
              "6     9                         9                   307.54         \n",
              "7     5                         4                   273.63         \n",
              "8     8                         8                    48.85         \n",
              "9     7                         7                   496.26         \n",
              "10    8                         7                    59.41         \n",
              "11    9                         9                   229.65         \n",
              "12    4                         7                     0.00         \n",
              "13    8                         6                   206.73         \n",
              "14    0                         6                   226.99         \n",
              "15    9                         9                    49.24         \n",
              "16    9                         9                   126.90         \n",
              "17    9                         9                   470.35         \n",
              "18    8                         9                   149.38         \n",
              "19    9                         8                   312.99         \n",
              "20    9                         9                   213.51         \n",
              "21    9                         8                   175.21         \n",
              "22    8                         5                    72.47         \n",
              "23    9                         9                   197.63         \n",
              "24    9                         6                   184.61         \n",
              "25    8                         6                  2673.17         \n",
              "26    3                         4                    62.02         \n",
              "27    9                         9                   206.03         \n",
              "28    7                         7                   946.88         \n",
              "29    9                         9                   112.55         \n",
              "30    9                         9                   155.66         \n",
              "⋮    ⋮                         ⋮                   ⋮               \n",
              "2971 9                         3                   1230.71         \n",
              "2972 2                         8                    120.57         \n",
              "2973 9                         9                    152.62         \n",
              "2974 7                         7                     80.34         \n",
              "2975 9                         9                   1087.12         \n",
              "2976 9                         9                    232.76         \n",
              "2977 5                         5                     50.47         \n",
              "2978 9                         9                    289.89         \n",
              "2979 9                         9                    840.48         \n",
              "2980 9                         9                     66.00         \n",
              "2981 9                         9                    998.97         \n",
              "2982 9                         9                    100.99         \n",
              "2983 9                         9                     45.51         \n",
              "2984 9                         9                    180.81         \n",
              "2985 8                         7                   1139.30         \n",
              "2986 8                         8                     62.16         \n",
              "2987 9                         9                    491.78         \n",
              "2988 9                         9                     85.98         \n",
              "2989 9                         9                    244.14         \n",
              "2990 9                         8                    139.87         \n",
              "2991 9                         5                     46.46         \n",
              "2992 7                         5                    264.92         \n",
              "2993 7                         7                    144.13         \n",
              "2994 9                         7                     49.07         \n",
              "2995 9                         9                    132.50         \n",
              "2996 8                         8                    330.17         \n",
              "2997 2                         3                    271.39         \n",
              "2998 9                         9                    908.34         \n",
              "2999 8                         9                     44.93         \n",
              "3000 9                         9                      0.00         \n",
              "     Survey_checkout_diff\n",
              "1     3                  \n",
              "2     5                  \n",
              "3     2                  \n",
              "4     2                  \n",
              "5     2                  \n",
              "6     2                  \n",
              "7     3                  \n",
              "8    24                  \n",
              "9     2                  \n",
              "10    4                  \n",
              "11    2                  \n",
              "12    2                  \n",
              "13    2                  \n",
              "14    5                  \n",
              "15    2                  \n",
              "16    2                  \n",
              "17    2                  \n",
              "18   12                  \n",
              "19    3                  \n",
              "20    2                  \n",
              "21    2                  \n",
              "22    3                  \n",
              "23    3                  \n",
              "24    2                  \n",
              "25    3                  \n",
              "26   24                  \n",
              "27    5                  \n",
              "28   12                  \n",
              "29    2                  \n",
              "30    2                  \n",
              "⋮    ⋮                   \n",
              "2971  2                  \n",
              "2972  5                  \n",
              "2973  4                  \n",
              "2974  2                  \n",
              "2975 14                  \n",
              "2976  3                  \n",
              "2977  2                  \n",
              "2978  5                  \n",
              "2979  2                  \n",
              "2980  4                  \n",
              "2981 16                  \n",
              "2982  2                  \n",
              "2983  3                  \n",
              "2984  2                  \n",
              "2985  3                  \n",
              "2986  4                  \n",
              "2987  2                  \n",
              "2988  2                  \n",
              "2989  3                  \n",
              "2990  1                  \n",
              "2991  2                  \n",
              "2992  2                  \n",
              "2993  2                  \n",
              "2994  5                  \n",
              "2995  2                  \n",
              "2996  2                  \n",
              "2997  2                  \n",
              "2998  3                  \n",
              "2999  2                  \n",
              "3000 21                  "
            ]
          },
          "metadata": {},
          "output_type": "display_data"
        },
        {
          "data": {
            "text/html": [
              "<table class=\"dataframe\">\n",
              "<caption>A matrix: 8 × 8 of type dbl</caption>\n",
              "<thead>\n",
              "\t<tr><th></th><th scope=col>Recommend_Hertz</th><th scope=col>Staff_Courtesy</th><th scope=col>Speed_of_Service</th><th scope=col>Veh_Equip_Condition</th><th scope=col>Trans_Billing_as_Expected</th><th scope=col>Value_for_the_Money</th><th scope=col>Total_charge_USD</th><th scope=col>Survey_checkout_diff</th></tr>\n",
              "</thead>\n",
              "<tbody>\n",
              "\t<tr><th scope=row>Recommend_Hertz</th><td> 1.000000000</td><td> 0.6293520996</td><td> 0.58313010</td><td> 0.561730016</td><td> 0.61024121</td><td> 0.69961276</td><td> 0.0056127450</td><td>-0.029600542</td></tr>\n",
              "\t<tr><th scope=row>Staff_Courtesy</th><td> 0.629352100</td><td> 1.0000000000</td><td> 0.65826205</td><td> 0.409679987</td><td> 0.49618610</td><td> 0.47866274</td><td>-0.0003796029</td><td>-0.040023533</td></tr>\n",
              "\t<tr><th scope=row>Speed_of_Service</th><td> 0.583130096</td><td> 0.6582620527</td><td> 1.00000000</td><td> 0.384461625</td><td> 0.46803891</td><td> 0.45538301</td><td> 0.0242810750</td><td>-0.040178692</td></tr>\n",
              "\t<tr><th scope=row>Veh_Equip_Condition</th><td> 0.561730016</td><td> 0.4096799874</td><td> 0.38446163</td><td> 1.000000000</td><td> 0.32512470</td><td> 0.52409082</td><td> 0.0318083996</td><td>-0.009554054</td></tr>\n",
              "\t<tr><th scope=row>Trans_Billing_as_Expected</th><td> 0.610241208</td><td> 0.4961861012</td><td> 0.46803891</td><td> 0.325124695</td><td> 1.00000000</td><td> 0.60146691</td><td>-0.0269113725</td><td>-0.064372627</td></tr>\n",
              "\t<tr><th scope=row>Value_for_the_Money</th><td> 0.699612763</td><td> 0.4786627377</td><td> 0.45538301</td><td> 0.524090817</td><td> 0.60146691</td><td> 1.00000000</td><td>-0.0462166580</td><td>-0.037202223</td></tr>\n",
              "\t<tr><th scope=row>Total_charge_USD</th><td> 0.005612745</td><td>-0.0003796029</td><td> 0.02428108</td><td> 0.031808400</td><td>-0.02691137</td><td>-0.04621666</td><td> 1.0000000000</td><td> 0.014253370</td></tr>\n",
              "\t<tr><th scope=row>Survey_checkout_diff</th><td>-0.029600542</td><td>-0.0400235330</td><td>-0.04017869</td><td>-0.009554054</td><td>-0.06437263</td><td>-0.03720222</td><td> 0.0142533702</td><td> 1.000000000</td></tr>\n",
              "</tbody>\n",
              "</table>\n"
            ],
            "text/latex": [
              "A matrix: 8 × 8 of type dbl\n",
              "\\begin{tabular}{r|llllllll}\n",
              "  & Recommend\\_Hertz & Staff\\_Courtesy & Speed\\_of\\_Service & Veh\\_Equip\\_Condition & Trans\\_Billing\\_as\\_Expected & Value\\_for\\_the\\_Money & Total\\_charge\\_USD & Survey\\_checkout\\_diff\\\\\n",
              "\\hline\n",
              "\tRecommend\\_Hertz &  1.000000000 &  0.6293520996 &  0.58313010 &  0.561730016 &  0.61024121 &  0.69961276 &  0.0056127450 & -0.029600542\\\\\n",
              "\tStaff\\_Courtesy &  0.629352100 &  1.0000000000 &  0.65826205 &  0.409679987 &  0.49618610 &  0.47866274 & -0.0003796029 & -0.040023533\\\\\n",
              "\tSpeed\\_of\\_Service &  0.583130096 &  0.6582620527 &  1.00000000 &  0.384461625 &  0.46803891 &  0.45538301 &  0.0242810750 & -0.040178692\\\\\n",
              "\tVeh\\_Equip\\_Condition &  0.561730016 &  0.4096799874 &  0.38446163 &  1.000000000 &  0.32512470 &  0.52409082 &  0.0318083996 & -0.009554054\\\\\n",
              "\tTrans\\_Billing\\_as\\_Expected &  0.610241208 &  0.4961861012 &  0.46803891 &  0.325124695 &  1.00000000 &  0.60146691 & -0.0269113725 & -0.064372627\\\\\n",
              "\tValue\\_for\\_the\\_Money &  0.699612763 &  0.4786627377 &  0.45538301 &  0.524090817 &  0.60146691 &  1.00000000 & -0.0462166580 & -0.037202223\\\\\n",
              "\tTotal\\_charge\\_USD &  0.005612745 & -0.0003796029 &  0.02428108 &  0.031808400 & -0.02691137 & -0.04621666 &  1.0000000000 &  0.014253370\\\\\n",
              "\tSurvey\\_checkout\\_diff & -0.029600542 & -0.0400235330 & -0.04017869 & -0.009554054 & -0.06437263 & -0.03720222 &  0.0142533702 &  1.000000000\\\\\n",
              "\\end{tabular}\n"
            ],
            "text/markdown": [
              "\n",
              "A matrix: 8 × 8 of type dbl\n",
              "\n",
              "| <!--/--> | Recommend_Hertz | Staff_Courtesy | Speed_of_Service | Veh_Equip_Condition | Trans_Billing_as_Expected | Value_for_the_Money | Total_charge_USD | Survey_checkout_diff |\n",
              "|---|---|---|---|---|---|---|---|---|\n",
              "| Recommend_Hertz |  1.000000000 |  0.6293520996 |  0.58313010 |  0.561730016 |  0.61024121 |  0.69961276 |  0.0056127450 | -0.029600542 |\n",
              "| Staff_Courtesy |  0.629352100 |  1.0000000000 |  0.65826205 |  0.409679987 |  0.49618610 |  0.47866274 | -0.0003796029 | -0.040023533 |\n",
              "| Speed_of_Service |  0.583130096 |  0.6582620527 |  1.00000000 |  0.384461625 |  0.46803891 |  0.45538301 |  0.0242810750 | -0.040178692 |\n",
              "| Veh_Equip_Condition |  0.561730016 |  0.4096799874 |  0.38446163 |  1.000000000 |  0.32512470 |  0.52409082 |  0.0318083996 | -0.009554054 |\n",
              "| Trans_Billing_as_Expected |  0.610241208 |  0.4961861012 |  0.46803891 |  0.325124695 |  1.00000000 |  0.60146691 | -0.0269113725 | -0.064372627 |\n",
              "| Value_for_the_Money |  0.699612763 |  0.4786627377 |  0.45538301 |  0.524090817 |  0.60146691 |  1.00000000 | -0.0462166580 | -0.037202223 |\n",
              "| Total_charge_USD |  0.005612745 | -0.0003796029 |  0.02428108 |  0.031808400 | -0.02691137 | -0.04621666 |  1.0000000000 |  0.014253370 |\n",
              "| Survey_checkout_diff | -0.029600542 | -0.0400235330 | -0.04017869 | -0.009554054 | -0.06437263 | -0.03720222 |  0.0142533702 |  1.000000000 |\n",
              "\n"
            ],
            "text/plain": [
              "                          Recommend_Hertz Staff_Courtesy Speed_of_Service\n",
              "Recommend_Hertz            1.000000000     0.6293520996   0.58313010     \n",
              "Staff_Courtesy             0.629352100     1.0000000000   0.65826205     \n",
              "Speed_of_Service           0.583130096     0.6582620527   1.00000000     \n",
              "Veh_Equip_Condition        0.561730016     0.4096799874   0.38446163     \n",
              "Trans_Billing_as_Expected  0.610241208     0.4961861012   0.46803891     \n",
              "Value_for_the_Money        0.699612763     0.4786627377   0.45538301     \n",
              "Total_charge_USD           0.005612745    -0.0003796029   0.02428108     \n",
              "Survey_checkout_diff      -0.029600542    -0.0400235330  -0.04017869     \n",
              "                          Veh_Equip_Condition Trans_Billing_as_Expected\n",
              "Recommend_Hertz            0.561730016         0.61024121              \n",
              "Staff_Courtesy             0.409679987         0.49618610              \n",
              "Speed_of_Service           0.384461625         0.46803891              \n",
              "Veh_Equip_Condition        1.000000000         0.32512470              \n",
              "Trans_Billing_as_Expected  0.325124695         1.00000000              \n",
              "Value_for_the_Money        0.524090817         0.60146691              \n",
              "Total_charge_USD           0.031808400        -0.02691137              \n",
              "Survey_checkout_diff      -0.009554054        -0.06437263              \n",
              "                          Value_for_the_Money Total_charge_USD\n",
              "Recommend_Hertz            0.69961276          0.0056127450   \n",
              "Staff_Courtesy             0.47866274         -0.0003796029   \n",
              "Speed_of_Service           0.45538301          0.0242810750   \n",
              "Veh_Equip_Condition        0.52409082          0.0318083996   \n",
              "Trans_Billing_as_Expected  0.60146691         -0.0269113725   \n",
              "Value_for_the_Money        1.00000000         -0.0462166580   \n",
              "Total_charge_USD          -0.04621666          1.0000000000   \n",
              "Survey_checkout_diff      -0.03720222          0.0142533702   \n",
              "                          Survey_checkout_diff\n",
              "Recommend_Hertz           -0.029600542        \n",
              "Staff_Courtesy            -0.040023533        \n",
              "Speed_of_Service          -0.040178692        \n",
              "Veh_Equip_Condition       -0.009554054        \n",
              "Trans_Billing_as_Expected -0.064372627        \n",
              "Value_for_the_Money       -0.037202223        \n",
              "Total_charge_USD           0.014253370        \n",
              "Survey_checkout_diff       1.000000000        "
            ]
          },
          "metadata": {},
          "output_type": "display_data"
        },
        {
          "data": {
            "text/plain": [
              "\n",
              "\tPearson's product-moment correlation\n",
              "\n",
              "data:  cor_hertz2$Recommend_Hertz and cor_hertz2$Value_for_the_Money\n",
              "t = 52.792, df = 2907, p-value < 2.2e-16\n",
              "alternative hypothesis: true correlation is not equal to 0\n",
              "95 percent confidence interval:\n",
              " 0.6805746 0.7177068\n",
              "sample estimates:\n",
              "      cor \n",
              "0.6996128 \n"
            ]
          },
          "metadata": {},
          "output_type": "display_data"
        },
        {
          "data": {
            "text/plain": [
              "\n",
              "\tPearson's product-moment correlation\n",
              "\n",
              "data:  cor_hertz2$Staff_Courtesy and cor_hertz2$Speed_of_Service\n",
              "t = 47.146, df = 2907, p-value < 2.2e-16\n",
              "alternative hypothesis: true correlation is not equal to 0\n",
              "95 percent confidence interval:\n",
              " 0.6371626 0.6783756\n",
              "sample estimates:\n",
              "      cor \n",
              "0.6582621 \n"
            ]
          },
          "metadata": {},
          "output_type": "display_data"
        },
        {
          "data": {
            "text/plain": [
              "\n",
              "\tPearson's product-moment correlation\n",
              "\n",
              "data:  cor_hertz2$Recommend_Hertz and cor_hertz2$Staff_Courtesy\n",
              "t = 43.664, df = 2907, p-value < 2.2e-16\n",
              "alternative hypothesis: true correlation is not equal to 0\n",
              "95 percent confidence interval:\n",
              " 0.6068908 0.6508089\n",
              "sample estimates:\n",
              "      cor \n",
              "0.6293521 \n"
            ]
          },
          "metadata": {},
          "output_type": "display_data"
        }
      ],
      "source": [
        "keep_cols <- c(9, 10, 11, 12, 13, 14, 35, 36)\n",
        "cor_hertz <- subset(hertz, select = keep_cols)\n",
        "View(cor_hertz)\n",
        "\n",
        "cor_hertz2 <- na.omit(cor_hertz)\n",
        "  cor(cor_hertz2)\n",
        "  cor.test(cor_hertz2$Recommend_Hertz,\n",
        "           cor_hertz2$Value_for_the_Money)\n",
        "  cor.test(cor_hertz2$Staff_Courtesy,\n",
        "           cor_hertz2$Speed_of_Service)\n",
        "  cor.test(cor_hertz2$Recommend_Hertz,\n",
        "           cor_hertz2$Staff_Courtesy)"
      ]
    },
    {
      "cell_type": "markdown",
      "metadata": {
        "id": "8rC6ffJpIbRJ"
      },
      "source": [
        "To measure collinearity, we created a correlation matrix with correlation coefficients between each IV. Inherently, these IVs were bound to affect and inform each other. For instance, speed of service is moderately correlated with staff courtesy because customers value promptness in their overall staff satisfaction. Going off room of thumb →  |correlation| > 0.9 = problematic, none of the correlations were large enough to generate untrustworthy estimates; the highest correlation is between value for the money and recommend Hertz = 0.70. Most of the correlations lie between 0.4 and 0.7, which is fairly moderate. To confirm, I ran several coefficient t-tests for the highest variable correlations, all of which yielded significant results (p-value 2.2e-16). And, looking at the small difference in the multiple R-squared and adjusted R-squared statistics (0.661-0.6602), it appears that each variable contributes meaningfully and noncollinearly to the variability."
      ]
    },
    {
      "cell_type": "markdown",
      "metadata": {
        "id": "lncOwqNlLVBg"
      },
      "source": [
        "### 1c.\n"
      ]
    },
    {
      "cell_type": "markdown",
      "metadata": {},
      "source": [
        "In Assignment 1, we split the Recommend_Hertz variable into three groups: the\n",
        "promoters who gave ratings 8-9, the neutrals who gave ratings 6-7, and the detractors\n",
        "who gave ratings 0-5. We then used hypothesis tests to understand how promoter status\n",
        "depends on various variables (e.g., purpose of travel). An alternative approach is to use\n",
        "regression analysis, like we did in part a of this question, treating Recommend_Hertz as\n",
        "the DV. What is one reason we may favor splitting over regression? What is one reason\n",
        "we may favor regression over splitting?\n",
        "(Hint: think about the measurement scale, and what we can learn from the analysis.)\n",
        "\n",
        "---"
      ]
    },
    {
      "cell_type": "markdown",
      "metadata": {
        "id": "PO1-LFgxIqNk"
      },
      "source": [
        "*   In Assignment 1, we evaluated whether nominal variables were related, which allowed us to determine that the purpose of travel was associated with NPS score. We were then able to split the data based on NPS score in order to evaluate trends within the promoter group. Hypothesis testing allows us to split groups into subsets and ascertain specific dependencies and relationships. We were able to find where the potential holes were in customer satisfaction and habits, which helped us to make recommendations accordingly. It might be more useful when you have a rational guess for the existence or cause of a particular problem, or when you want to highlight more specific nominal variables.\n",
        "*   For this assignment, we worked primarily with regression, which utilizes interval and ratio variables. It allowed us to determine how variables are interrelated, and order them based on magnitude of importance. Unlike with hypothesis testing, we were able to not only make statistical inferences, but predict/explain customer satisfaction quantitatively (direction, strength, and significance). So, while hypothesis testing and splitting was more adept at identifying specific conflicts of interest, regression gives us a more general perspective of the relative importance of factors. Regression might also be more useful in evaluating variables in the context of their relationship with other variables; hypothesis testing and splitting takes you out of that context. The problem with regression in this scenario is that if we split into promoters, passives, and detractors, we wouldn’t be able to infer if the importance of IVs within the groups were dependent on their group designations.\n",
        "\n"
      ]
    },
    {
      "cell_type": "markdown",
      "metadata": {
        "id": "CSY8XlszQ1Ym"
      },
      "source": [
        "## Quesion 2\n",
        "\n",
        "This question uses a different dataset from the same major international video game company\n",
        "from Assignment 1, provided to us by WCA. This secure data set is available on Canvas under the\n",
        "Modules tab, and can be downloaded after you have signed the DUA.\n",
        "In the last assignment, you analyzed the relationship between number of play sessions in the\n",
        "company’s football video game and real-life NFL events. The company is also interested in\n",
        "understanding player engagement within their games, and in particular, how different in-game\n",
        "features, and the different platforms players can use to play their games, affect how much time\n",
        "people spend playing. The file sessions_m15_top4modes_2kusers.csv contains data about users\n",
        "playing the game, which you should use to answer the following questions:\n",
        "\n",
        "---"
      ]
    },
    {
      "cell_type": "markdown",
      "metadata": {},
      "source": [
        "### 2a.\n",
        "\n",
        "The main dependent variable of interest for the company is Duration, which is how long\n",
        "in seconds a player plays the game in a single session. Create a plot that compares the\n",
        "distribution of this variable for players who play Single-player (Game_Type = “Single-\n",
        "player”) versus Multi-player (Game_Type = “Multi-player”) game types. Describe the\n",
        "results.\n",
        "\n",
        "---"
      ]
    },
    {
      "cell_type": "code",
      "execution_count": null,
      "metadata": {
        "colab": {
          "base_uri": "https://localhost:8080/",
          "height": 437
        },
        "id": "FM3lPmKH6x0G",
        "outputId": "a56bea70-273a-411f-9884-ce21bd9ee122",
        "vscode": {
          "languageId": "r"
        }
      },
      "outputs": [
        {
          "data": {
            "image/png": "[encoded data removed]",
            "text/plain": [
              "plot without title"
            ]
          },
          "metadata": {
            "image/png": {
              "height": 420,
              "width": 420
            }
          },
          "output_type": "display_data"
        }
      ],
      "source": [
        "library(ggplot2)\n",
        "library(readxl)\n",
        "library(dplyr)\n",
        "library(tidyr)\n",
        "data <- read.csv(\"/content/sessions_m15_top4modes_2kusers.csv\")\n",
        "\n",
        "single_player <- subset(data, Game_Type == \"Single-player\")\n",
        "multi_player <- subset(data, Game_Type == \"Multi-player\")\n",
        "\n",
        "data %>% ggplot() +\n",
        "  geom_histogram(aes(x = Duration, fill = Game_Type, color = Game_Type), bins = 50, alpha = 0.7, position = \"identity\") +\n",
        "  labs(x = \"Duration (seconds)\", y = \"Frequency\", title = \"Distribution of Duration for Single-player vs Multi-player\") +\n",
        "  theme_minimal() +\n",
        "  theme(legend.position = \"top\")\n"
      ]
    },
    {
      "cell_type": "markdown",
      "metadata": {},
      "source": [
        "### 2b.\n",
        "\n",
        "We will analyze the differences between these two groups in two ways: first, simply\n",
        "compute (and report) the difference in the mean Duration for Single-player versus Multi-\n",
        "player sessions. Then, run a regression with Duration as the dependent variable, and the\n",
        "nominal variable Game_Type as the independent variable, using Multi-player as the\n",
        "baseline. Report the results. What do you notice about the mean difference and the\n",
        "regression results?\n",
        "\n",
        "---"
      ]
    },
    {
      "cell_type": "code",
      "execution_count": null,
      "metadata": {
        "colab": {
          "base_uri": "https://localhost:8080/",
          "height": 361
        },
        "id": "AgV1huZ468mb",
        "outputId": "ab635075-f246-434a-e55d-5296f7533bcd",
        "vscode": {
          "languageId": "r"
        }
      },
      "outputs": [
        {
          "name": "stdout",
          "output_type": "stream",
          "text": [
            "Mean Difference in Duration (Single-player - Multi-player): -1864.071 \n"
          ]
        },
        {
          "data": {
            "text/plain": [
              "\n",
              "Call:\n",
              "lm(formula = Duration ~ Game_Type, data = data)\n",
              "\n",
              "Residuals:\n",
              "   Min     1Q Median     3Q    Max \n",
              " -5028  -2357  -1425    506  80477 \n",
              "\n",
              "Coefficients:\n",
              "                       Estimate Std. Error t value Pr(>|t|)    \n",
              "(Intercept)              5041.9      196.6   25.64  < 2e-16 ***\n",
              "Game_TypeSingle-player  -1864.1      279.5   -6.67 3.31e-11 ***\n",
              "---\n",
              "Signif. codes:  0 ‘***’ 0.001 ‘**’ 0.01 ‘*’ 0.05 ‘.’ 0.1 ‘ ’ 1\n",
              "\n",
              "Residual standard error: 6249 on 1998 degrees of freedom\n",
              "Multiple R-squared:  0.02178,\tAdjusted R-squared:  0.02129 \n",
              "F-statistic: 44.49 on 1 and 1998 DF,  p-value: 3.307e-11\n"
            ]
          },
          "metadata": {},
          "output_type": "display_data"
        }
      ],
      "source": [
        "mean_difference <- mean(single_player$Duration) - mean(multi_player$Duration)\n",
        "cat(\"Mean Difference in Duration (Single-player - Multi-player):\", mean_difference, \"\\n\")\n",
        "\n",
        "regression_model <- lm(Duration ~ Game_Type, data = data)\n",
        "summary(regression_model)\n"
      ]
    },
    {
      "cell_type": "markdown",
      "metadata": {},
      "source": [
        "### 2c.\n",
        "\n",
        "The other variable of interest to the company is Platform: their game can be played on\n",
        "four different video game consoles: PS3, PS4, XBOX360, XBOX One. These values are\n",
        "contained in the variable Platform. Run a regression model to explore how both Platform\n",
        "and Game_Type explain Duration. For Platform, fix PS3 as the baseline. For Game_Type,\n",
        "fix Multi-player as the baseline. Report and interpret the results. In plain English, how do\n",
        "Game_Type and Platform affect Duration?\n",
        "\n",
        "---"
      ]
    },
    {
      "cell_type": "code",
      "execution_count": null,
      "metadata": {
        "colab": {
          "base_uri": "https://localhost:8080/",
          "height": 868
        },
        "id": "ccPrdX827D6a",
        "outputId": "994d5e9c-447c-4de6-c207-8d475fcfd7e7",
        "vscode": {
          "languageId": "r"
        }
      },
      "outputs": [
        {
          "data": {
            "text/plain": [
              "\n",
              "Call:\n",
              "lm(formula = Duration ~ factor(Platform, levels = c(\"PS3\", \"PS4\", \n",
              "    \"XBOX360\", \"XBOX One\")) + factor(Game_Type, levels = c(\"Multi-player\", \n",
              "    \"Single-player\")), data = data)\n",
              "\n",
              "Residuals:\n",
              "   Min     1Q Median     3Q    Max \n",
              " -5802  -2539  -1291    522  79701 \n",
              "\n",
              "Coefficients:\n",
              "                                                                            Estimate\n",
              "(Intercept)                                                                  4667.66\n",
              "factor(Platform, levels = c(\"PS3\", \"PS4\", \"XBOX360\", \"XBOX One\"))PS4           65.77\n",
              "factor(Platform, levels = c(\"PS3\", \"PS4\", \"XBOX360\", \"XBOX One\"))XBOX360     -281.10\n",
              "factor(Platform, levels = c(\"PS3\", \"PS4\", \"XBOX360\", \"XBOX One\"))XBOX One    1150.08\n",
              "factor(Game_Type, levels = c(\"Multi-player\", \"Single-player\"))Single-player -1889.21\n",
              "                                                                            Std. Error\n",
              "(Intercept)                                                                     433.57\n",
              "factor(Platform, levels = c(\"PS3\", \"PS4\", \"XBOX360\", \"XBOX One\"))PS4            467.79\n",
              "factor(Platform, levels = c(\"PS3\", \"PS4\", \"XBOX360\", \"XBOX One\"))XBOX360        551.56\n",
              "factor(Platform, levels = c(\"PS3\", \"PS4\", \"XBOX360\", \"XBOX One\"))XBOX One       474.33\n",
              "factor(Game_Type, levels = c(\"Multi-player\", \"Single-player\"))Single-player     279.02\n",
              "                                                                            t value\n",
              "(Intercept)                                                                  10.766\n",
              "factor(Platform, levels = c(\"PS3\", \"PS4\", \"XBOX360\", \"XBOX One\"))PS4          0.141\n",
              "factor(Platform, levels = c(\"PS3\", \"PS4\", \"XBOX360\", \"XBOX One\"))XBOX360     -0.510\n",
              "factor(Platform, levels = c(\"PS3\", \"PS4\", \"XBOX360\", \"XBOX One\"))XBOX One     2.425\n",
              "factor(Game_Type, levels = c(\"Multi-player\", \"Single-player\"))Single-player  -6.771\n",
              "                                                                            Pr(>|t|)\n",
              "(Intercept)                                                                  < 2e-16\n",
              "factor(Platform, levels = c(\"PS3\", \"PS4\", \"XBOX360\", \"XBOX One\"))PS4          0.8882\n",
              "factor(Platform, levels = c(\"PS3\", \"PS4\", \"XBOX360\", \"XBOX One\"))XBOX360      0.6104\n",
              "factor(Platform, levels = c(\"PS3\", \"PS4\", \"XBOX360\", \"XBOX One\"))XBOX One     0.0154\n",
              "factor(Game_Type, levels = c(\"Multi-player\", \"Single-player\"))Single-player 1.68e-11\n",
              "                                                                               \n",
              "(Intercept)                                                                 ***\n",
              "factor(Platform, levels = c(\"PS3\", \"PS4\", \"XBOX360\", \"XBOX One\"))PS4           \n",
              "factor(Platform, levels = c(\"PS3\", \"PS4\", \"XBOX360\", \"XBOX One\"))XBOX360       \n",
              "factor(Platform, levels = c(\"PS3\", \"PS4\", \"XBOX360\", \"XBOX One\"))XBOX One   *  \n",
              "factor(Game_Type, levels = c(\"Multi-player\", \"Single-player\"))Single-player ***\n",
              "---\n",
              "Signif. codes:  0 ‘***’ 0.001 ‘**’ 0.01 ‘*’ 0.05 ‘.’ 0.1 ‘ ’ 1\n",
              "\n",
              "Residual standard error: 6228 on 1995 degrees of freedom\n",
              "Multiple R-squared:  0.02993,\tAdjusted R-squared:  0.02798 \n",
              "F-statistic: 15.39 on 4 and 1995 DF,  p-value: 2.118e-12\n"
            ]
          },
          "metadata": {},
          "output_type": "display_data"
        }
      ],
      "source": [
        "regression_model <- lm(Duration ~ factor(Platform, levels = c(\"PS3\", \"PS4\", \"XBOX360\", \"XBOX One\")) + factor(Game_Type, levels = c(\"Multi-player\", \"Single-player\")), data = data)\n",
        "summary(regression_model)\n"
      ]
    },
    {
      "cell_type": "markdown",
      "metadata": {
        "id": "CRfQPMzrVHXJ"
      },
      "source": [
        "### 2d.\n",
        "\n",
        "Using the regression results from part c, compute:\n",
        "i. The expected Duration of play for a player playing a multi-player game on XBOX\n",
        "One.\n",
        "ii. The expected Duration of play for a player playing a single-player game on PS3.\n",
        "\n",
        "---"
      ]
    },
    {
      "cell_type": "code",
      "execution_count": null,
      "metadata": {
        "colab": {
          "base_uri": "https://localhost:8080/"
        },
        "id": "M02u15vU7Ono",
        "outputId": "f845517d-0e22-4af4-b5fe-5d5a65cbdc3a",
        "vscode": {
          "languageId": "r"
        }
      },
      "outputs": [
        {
          "name": "stdout",
          "output_type": "stream",
          "text": [
            "Expected Duration of play for a player playing a multi-player game on XBOX One: 5817.74 seconds\n",
            "Expected Duration of play for a player playing a single-player game on PS3: 2778.45 seconds\n"
          ]
        }
      ],
      "source": [
        "intercept <- 4667.66\n",
        "coefficient_PS4 <- 65.77\n",
        "coefficient_XBOX360 <- -281.10\n",
        "coefficient_XBOX_One <- 1150.08\n",
        "coefficient_Single_player <- -1889.21\n",
        "\n",
        "expected_duration_XBOX_One <- intercept + coefficient_XBOX_One\n",
        "cat(\"Expected Duration of play for a player playing a multi-player game on XBOX One:\", expected_duration_XBOX_One, \"seconds\\n\")\n",
        "\n",
        "expected_duration_PS3_Single <- intercept + coefficient_Single_player\n",
        "cat(\"Expected Duration of play for a player playing a single-player game on PS3:\", expected_duration_PS3_Single, \"seconds\\n\")\n"
      ]
    },
    {
      "cell_type": "markdown",
      "metadata": {
        "id": "BqmzVGXYVHXJ"
      },
      "source": [
        "### 2e.\n",
        "\n",
        "One possible explanation for the finding different durations of play across different\n",
        "platforms is that the game might be more enjoyable when played on certain platforms\n",
        "(i.e., the game may simply be easier to play, or have better). Provide a different\n",
        "explanation for why we may find platform differences in duration. (Hint: think about the\n",
        "customers!)\n",
        "\n",
        "---"
      ]
    },
    {
      "cell_type": "markdown",
      "metadata": {},
      "source": []
    },
    {
      "cell_type": "markdown",
      "metadata": {},
      "source": [
        "### Bonus\n",
        "\n",
        "The company hypothesizes that different platforms may be better suited to\n",
        "different game types. For example, perhaps the newer platforms (PS4 and XBOX One) are more\n",
        "conducive to multi-player games than the older platforms (PS3 and XBOX 360).\n",
        "To test their hypothesis, we need to create a new set of indicator variables that capture the\n",
        "interaction between Platform and Game_Type, and then use those new variables in our\n",
        "regression. To create these interaction variables, we can simply multiply the indicator variable\n",
        "for Game_Type with the indicator variables for Platform used. This will create three new\n",
        "variables: Single-player * PS4, Single-player * XBOX360, Single-player * XBOX One. When used in\n",
        "a regression, together with the original variables, these three new variables capture the unique,\n",
        "incremental effect of playing Single-player on the PS4 (and so on for XBOX360 and XBOX One).\n",
        "- Explain, statistically, why these three variables, together with the original variables, can\n",
        "fully capture the interaction between platform and game type.\n",
        "- Carry out the regression described here, using the original variables and the interaction\n",
        "effects. Report and interpret the results: how does platform interact with game type?\n",
        "\n",
        "---"
      ]
    },
    {
      "cell_type": "code",
      "execution_count": null,
      "metadata": {
        "colab": {
          "base_uri": "https://localhost:8080/",
          "height": 1000
        },
        "id": "gsKBMz_w7rgo",
        "outputId": "dc614351-508f-4556-bce1-afd13406798a",
        "vscode": {
          "languageId": "r"
        }
      },
      "outputs": [
        {
          "data": {
            "text/plain": [
              "\n",
              "Call:\n",
              "lm(formula = Duration ~ factor(Platform, levels = c(\"PS3\", \"PS4\", \n",
              "    \"XBOX360\", \"XBOX One\")) + factor(Game_Type, levels = c(\"Multi-player\", \n",
              "    \"Single-player\")) + Single_PS4 + Single_XBOX360 + Single_XBOX_One, \n",
              "    data = data)\n",
              "\n",
              "Residuals:\n",
              "   Min     1Q Median     3Q    Max \n",
              " -6617  -2214  -1342    585  78886 \n",
              "\n",
              "Coefficients:\n",
              "                                                                            Estimate\n",
              "(Intercept)                                                                  4328.50\n",
              "factor(Platform, levels = c(\"PS3\", \"PS4\", \"XBOX360\", \"XBOX One\"))PS4          -35.81\n",
              "factor(Platform, levels = c(\"PS3\", \"PS4\", \"XBOX360\", \"XBOX One\"))XBOX360     -306.36\n",
              "factor(Platform, levels = c(\"PS3\", \"PS4\", \"XBOX360\", \"XBOX One\"))XBOX One    2304.01\n",
              "factor(Game_Type, levels = c(\"Multi-player\", \"Single-player\"))Single-player -1195.75\n",
              "Single_PS4TRUE                                                                262.27\n",
              "Single_XBOX360TRUE                                                            -16.35\n",
              "Single_XBOX_OneTRUE                                                         -2268.84\n",
              "                                                                            Std. Error\n",
              "(Intercept)                                                                     573.68\n",
              "factor(Platform, levels = c(\"PS3\", \"PS4\", \"XBOX360\", \"XBOX One\"))PS4            648.18\n",
              "factor(Platform, levels = c(\"PS3\", \"PS4\", \"XBOX360\", \"XBOX One\"))XBOX360        786.53\n",
              "factor(Platform, levels = c(\"PS3\", \"PS4\", \"XBOX360\", \"XBOX One\"))XBOX One       665.86\n",
              "factor(Game_Type, levels = c(\"Multi-player\", \"Single-player\"))Single-player     820.31\n",
              "Single_PS4TRUE                                                                  932.90\n",
              "Single_XBOX360TRUE                                                             1100.39\n",
              "Single_XBOX_OneTRUE                                                             945.43\n",
              "                                                                            t value\n",
              "(Intercept)                                                                   7.545\n",
              "factor(Platform, levels = c(\"PS3\", \"PS4\", \"XBOX360\", \"XBOX One\"))PS4         -0.055\n",
              "factor(Platform, levels = c(\"PS3\", \"PS4\", \"XBOX360\", \"XBOX One\"))XBOX360     -0.390\n",
              "factor(Platform, levels = c(\"PS3\", \"PS4\", \"XBOX360\", \"XBOX One\"))XBOX One     3.460\n",
              "factor(Game_Type, levels = c(\"Multi-player\", \"Single-player\"))Single-player  -1.458\n",
              "Single_PS4TRUE                                                                0.281\n",
              "Single_XBOX360TRUE                                                           -0.015\n",
              "Single_XBOX_OneTRUE                                                          -2.400\n",
              "                                                                            Pr(>|t|)\n",
              "(Intercept)                                                                 6.83e-14\n",
              "factor(Platform, levels = c(\"PS3\", \"PS4\", \"XBOX360\", \"XBOX One\"))PS4        0.955948\n",
              "factor(Platform, levels = c(\"PS3\", \"PS4\", \"XBOX360\", \"XBOX One\"))XBOX360    0.696940\n",
              "factor(Platform, levels = c(\"PS3\", \"PS4\", \"XBOX360\", \"XBOX One\"))XBOX One   0.000551\n",
              "factor(Game_Type, levels = c(\"Multi-player\", \"Single-player\"))Single-player 0.145086\n",
              "Single_PS4TRUE                                                              0.778634\n",
              "Single_XBOX360TRUE                                                          0.988147\n",
              "Single_XBOX_OneTRUE                                                         0.016495\n",
              "                                                                               \n",
              "(Intercept)                                                                 ***\n",
              "factor(Platform, levels = c(\"PS3\", \"PS4\", \"XBOX360\", \"XBOX One\"))PS4           \n",
              "factor(Platform, levels = c(\"PS3\", \"PS4\", \"XBOX360\", \"XBOX One\"))XBOX360       \n",
              "factor(Platform, levels = c(\"PS3\", \"PS4\", \"XBOX360\", \"XBOX One\"))XBOX One   ***\n",
              "factor(Game_Type, levels = c(\"Multi-player\", \"Single-player\"))Single-player    \n",
              "Single_PS4TRUE                                                                 \n",
              "Single_XBOX360TRUE                                                             \n",
              "Single_XBOX_OneTRUE                                                         *  \n",
              "---\n",
              "Signif. codes:  0 ‘***’ 0.001 ‘**’ 0.01 ‘*’ 0.05 ‘.’ 0.1 ‘ ’ 1\n",
              "\n",
              "Residual standard error: 6205 on 1992 degrees of freedom\n",
              "Multiple R-squared:  0.03834,\tAdjusted R-squared:  0.03496 \n",
              "F-statistic: 11.35 on 7 and 1992 DF,  p-value: 3.556e-14\n"
            ]
          },
          "metadata": {},
          "output_type": "display_data"
        }
      ],
      "source": [
        "data$Single_PS4 <- data$Game_Type == \"Single-player\" & data$Platform == \"PS4\"\n",
        "data$Single_XBOX360 <- data$Game_Type == \"Single-player\" & data$Platform == \"XBOX360\"\n",
        "data$Single_XBOX_One <- data$Game_Type == \"Single-player\" & data$Platform == \"XBOX One\"\n",
        "\n",
        "regression_model_interaction <- lm(Duration ~ factor(Platform, levels = c(\"PS3\", \"PS4\", \"XBOX360\", \"XBOX One\")) +\n",
        "                                      factor(Game_Type, levels = c(\"Multi-player\", \"Single-player\")) +\n",
        "                                      Single_PS4 + Single_XBOX360 + Single_XBOX_One,\n",
        "                                    data = data)\n",
        "summary(regression_model_interaction)"
      ]
    },
    {
      "cell_type": "markdown",
      "metadata": {
        "id": "i2gW7KbQ-ThU"
      },
      "source": [
        "## Question 3\n",
        "\n",
        "A big fast-food brand has hired a marketing research firm to assess a potential change in the look of its stores. As part of their research, the firm plans to launch a large, representative survey of existing customers, to assess their reactions to the new concept. Since the associates of the marketing research firm took Data and Analysis for Marketing Decisions, they very sensibly chose to first launch a pre-test of their survey, to check for any possible issues. \n",
        " \n",
        "Specifically, the firm asked each respondent the following questions in a random order, where a label for each is given in brackets: \n",
        " \n",
        "[Freq] How often do you typically eat at our restaurants in a given month? \n",
        "(1 time) (2-3 times) (4-6 times) (7-10 times) (More than 10 times) \n",
        " \n",
        "[DinExp] How would you rate your most recent experience dining at our restaurants? \n",
        "(Terrible) (Bad) (Satisfactory) (Good) (Excellent) \n",
        " \n",
        "[Store] If both were equally convenient, would you prefer to dine at a restaurant with the new look, or with the existing look?  \n",
        "(New look) (Existing look) \n",
        " \n",
        "The results of this pre-test survey, conducted with a random sample of 200 existing customers, are contained in the file look_survey.csv. The data key is in the file look_survey_key.pdf. Based on this data, please answer the following questions: \n",
        "\n",
        "---"
      ]
    },
    {
      "cell_type": "markdown",
      "metadata": {
        "id": "lM6NgB4pWW12"
      },
      "source": [
        "### 3a.\n",
        "\n",
        "Construct three pivot tables (or in R, tables), that show the distributions of (i) Freq and Store, (ii) DinExp and Store, (iii) and Freq and DinExp. What do you notice about the relationships between these three questions? What does that imply about the company’s customers?\n",
        "\n",
        "---"
      ]
    },
    {
      "cell_type": "code",
      "execution_count": null,
      "metadata": {
        "id": "MnSVm2qtOJ47",
        "vscode": {
          "languageId": "r"
        }
      },
      "outputs": [],
      "source": [
        "library(tidyverse)"
      ]
    },
    {
      "cell_type": "code",
      "execution_count": null,
      "metadata": {
        "colab": {
          "base_uri": "https://localhost:8080/",
          "height": 415
        },
        "id": "i_BwlzmaN_8u",
        "outputId": "479b49e7-fac4-486b-c2d1-22b311637630",
        "vscode": {
          "languageId": "r"
        }
      },
      "outputs": [
        {
          "data": {
            "text/plain": [
              "\n",
              "Call:\n",
              "glm(formula = Churn ~ gender + SeniorCitizen + Partner + Dependents, \n",
              "    family = \"binomial\", data = telco)\n",
              "\n",
              "Coefficients:\n",
              "                 Estimate Std. Error z value Pr(>|z|)    \n",
              "(Intercept)      -0.78494    0.05714 -13.737  < 2e-16 ***\n",
              "genderMale       -0.07671    0.06621  -1.159    0.247    \n",
              "SeniorCitizenYes  0.78535    0.08367   9.387  < 2e-16 ***\n",
              "PartnerYes       -0.51446    0.07462  -6.894 5.42e-12 ***\n",
              "DependentsYes    -0.53904    0.09130  -5.904 3.55e-09 ***\n",
              "---\n",
              "Signif. codes:  0 ‘***’ 0.001 ‘**’ 0.01 ‘*’ 0.05 ‘.’ 0.1 ‘ ’ 1\n",
              "\n",
              "(Dispersion parameter for binomial family taken to be 1)\n",
              "\n",
              "    Null deviance: 5738.9  on 4999  degrees of freedom\n",
              "Residual deviance: 5472.5  on 4995  degrees of freedom\n",
              "AIC: 5482.5\n",
              "\n",
              "Number of Fisher Scoring iterations: 4\n"
            ]
          },
          "metadata": {},
          "output_type": "display_data"
        }
      ],
      "source": [
        "telco <- read.csv(\"/content/telco_data.csv\")\n",
        "fit_1 <- glm(Churn ~ gender + SeniorCitizen + Partner + Dependents, data = telco, family = \"binomial\")\n",
        "summary(fit_1)"
      ]
    },
    {
      "cell_type": "markdown",
      "metadata": {
        "id": "NPYP664MWW2H"
      },
      "source": [
        "### 3b.\n",
        "\n",
        "The researchers want to understand whether the order the questions were shown changed the answers given to the question “Store.” To answer their question, conduct an appropriate hypothesis test. Describe the null and alternative hypotheses, the relevant test statistic, the P-value, and your conclusions.  \n",
        "\n",
        "---"
      ]
    },
    {
      "cell_type": "markdown",
      "metadata": {},
      "source": [
        "A male senior citizen, with a partner and no dependents: 0.356"
      ]
    },
    {
      "cell_type": "code",
      "execution_count": null,
      "metadata": {
        "colab": {
          "base_uri": "https://localhost:8080/",
          "height": 34
        },
        "id": "7-ZA6V-WrbrK",
        "outputId": "f2c96754-726b-4314-fb2a-3771b9e4607c",
        "vscode": {
          "languageId": "r"
        }
      },
      "outputs": [
        {
          "data": {
            "text/html": [
              "0.356460494021253"
            ],
            "text/latex": [
              "0.356460494021253"
            ],
            "text/markdown": [
              "0.356460494021253"
            ],
            "text/plain": [
              "[1] 0.3564605"
            ]
          },
          "metadata": {},
          "output_type": "display_data"
        }
      ],
      "source": [
        "1 / (1 + exp(-(-0.78494-0.07671+0.78535-0.51446+0)))"
      ]
    },
    {
      "cell_type": "markdown",
      "metadata": {},
      "source": [
        "A female, not a senior citizen, with no partner, and no dependents: 0.313"
      ]
    },
    {
      "cell_type": "code",
      "execution_count": null,
      "metadata": {
        "colab": {
          "base_uri": "https://localhost:8080/",
          "height": 34
        },
        "id": "0FD81974skig",
        "outputId": "fa95fb07-d589-483c-bd71-83ba133f45bf",
        "vscode": {
          "languageId": "r"
        }
      },
      "outputs": [
        {
          "data": {
            "text/html": [
              "0.313256180816231"
            ],
            "text/latex": [
              "0.313256180816231"
            ],
            "text/markdown": [
              "0.313256180816231"
            ],
            "text/plain": [
              "[1] 0.3132562"
            ]
          },
          "metadata": {},
          "output_type": "display_data"
        }
      ],
      "source": [
        "1 / (1 + exp(-(-0.78494+0+0+0+0)))"
      ]
    },
    {
      "cell_type": "markdown",
      "metadata": {
        "id": "o-xLz6UBWW2H"
      },
      "source": [
        "### 3c.\n"
      ]
    },
    {
      "cell_type": "markdown",
      "metadata": {},
      "source": [
        "Intuitively (that is, not statistically), which of the other two questions do you think is driving the order effect? Said differently: if the researchers changed the placement of either the Freq or DinExp question, from coming before the Store question to coming after, which do you think would have a bigger effect? Explain (intuitively). \n",
        "\n",
        "---"
      ]
    },
    {
      "cell_type": "code",
      "execution_count": null,
      "metadata": {
        "colab": {
          "base_uri": "https://localhost:8080/",
          "height": 506
        },
        "id": "jLRL6xcbs9zB",
        "outputId": "8120f0d4-29af-4ba6-af05-b39e598db9cd",
        "vscode": {
          "languageId": "r"
        }
      },
      "outputs": [
        {
          "data": {
            "text/plain": [
              "\n",
              "Call:\n",
              "glm(formula = Churn ~ tenure + PhoneService + InternetService + \n",
              "    Contract + MonthlyCharges + PaperlessBilling, family = \"binomial\", \n",
              "    data = telco)\n",
              "\n",
              "Coefficients:\n",
              "                            Estimate Std. Error z value Pr(>|z|)    \n",
              "(Intercept)                -0.711606   0.185938  -3.827 0.000130 ***\n",
              "tenure                     -0.035382   0.002556 -13.843  < 2e-16 ***\n",
              "PhoneServiceYes            -0.827540   0.167514  -4.940 7.81e-07 ***\n",
              "InternetServiceFiber optic  0.831927   0.153777   5.410 6.30e-08 ***\n",
              "InternetServiceNo          -0.222035   0.213438  -1.040 0.298210    \n",
              "ContractOne year           -1.002658   0.130005  -7.712 1.23e-14 ***\n",
              "ContractTwo year           -1.676153   0.199058  -8.420  < 2e-16 ***\n",
              "MonthlyCharges              0.014895   0.004169   3.573 0.000354 ***\n",
              "PaperlessBillingYes         0.454616   0.086517   5.255 1.48e-07 ***\n",
              "---\n",
              "Signif. codes:  0 ‘***’ 0.001 ‘**’ 0.01 ‘*’ 0.05 ‘.’ 0.1 ‘ ’ 1\n",
              "\n",
              "(Dispersion parameter for binomial family taken to be 1)\n",
              "\n",
              "    Null deviance: 5738.9  on 4999  degrees of freedom\n",
              "Residual deviance: 4228.1  on 4991  degrees of freedom\n",
              "AIC: 4246.1\n",
              "\n",
              "Number of Fisher Scoring iterations: 6\n"
            ]
          },
          "metadata": {},
          "output_type": "display_data"
        }
      ],
      "source": [
        "fit_2 <- glm(Churn ~ tenure + PhoneService + InternetService + Contract + MonthlyCharges + PaperlessBilling, data = telco, family = \"binomial\")\n",
        "summary(fit_2)"
      ]
    },
    {
      "cell_type": "markdown",
      "metadata": {
        "id": "o9b68X1WWW2H"
      },
      "source": [
        "### 3d.\n",
        "\n",
        "Based on the results from part c, which types of customers are associated with the\n",
        "highest risk of customer churn, and which types of customers are the most loyal? (By\n",
        "types of customers, I mean as described by all of the variables used in the model in part\n",
        "c.) Give an explanation for your results\n",
        "\n",
        "---"
      ]
    },
    {
      "cell_type": "markdown",
      "metadata": {},
      "source": [
        "Highest Risk of Customer Churn\n",
        "- Short tenure: The negative coefficient for tenure implies shorter tenure increases churn risk.\n",
        "- Fiber optic internet service: The positive coefficient here indicates these customers are more likely to churn.\n",
        "- Month-to-month contract: One-year and two-year contracts have more negative coefficients than the intercept, suggesting month-to-month customers are more likely to churn.\n",
        "- Monthly charges: The positive coefficient for MonthlyCharges implies higher costs contribute to churn.\n",
        "- Paperless billing: The positive coefficient for PaperlessBillingYes suggests these customers are more likely to churn.\n",
        "- No phone service: The negative coefficient for PhoneServiceYes implies that customers without phone service are more likely to churn.\n",
        "\n",
        "\n",
        "Most Loyal Customers\n",
        "- Long tenure: The negative coefficient for tenure implies longer tenure reduces churn risk.\n",
        "- DSL: Since the Fiber optic coefficient is positive for churn risk, customers without fiber optic are more loyal, we can say nothing significant about no internet service. \n",
        "- Two-year contract: The negative coefficient for two-year contracts indicates these customers are less likely to churn.\n",
        "- Low monthly charges: The negative intercept implies low monthly charges contribute to loyalty.\n",
        "- No paperless billing: Paperless billing is associated with higher churn, opting out of it suggests lower churn risk.\n",
        "- Phone service: The negative coefficient for PhoneServiceYes implies that customers with phone service are more loyal.\n"
      ]
    },
    {
      "cell_type": "markdown",
      "metadata": {
        "id": "vRrRg6E7MWCx"
      },
      "source": [
        "### 3e.\n",
        "\n",
        "What is the probability of churn for:\n",
        "- A customer who has been with the company for 20 months (tenure = 20), who\n",
        "has PhoneService, who has “Fiber optic” InternetService, a “One year” Contract,\n",
        "spends $60 per month (MonthlyCharges = 60), and has signed up for\n",
        "PaperlessBilling? (1 point)\n",
        "- The same customer, but who has not signed up for PaperlessBilling?\n",
        "\n",
        "---"
      ]
    },
    {
      "cell_type": "markdown",
      "metadata": {},
      "source": [
        "A customer who has been with the company for 20 months (tenure = 20), who has PhoneService, who has “Fiber optic” InternetService, a “One year” Contract, spends $60 per month (MonthlyCharges = 60), and has signed up for PaperlessBilling: 0.256"
      ]
    },
    {
      "cell_type": "code",
      "execution_count": null,
      "metadata": {
        "colab": {
          "base_uri": "https://localhost:8080/",
          "height": 34
        },
        "id": "IdXxY5uqOTwH",
        "outputId": "2aee3b69-ad4f-4148-b1c7-27916702ebc6",
        "vscode": {
          "languageId": "r"
        }
      },
      "outputs": [
        {
          "data": {
            "text/html": [
              "0.255555061572494"
            ],
            "text/latex": [
              "0.255555061572494"
            ],
            "text/markdown": [
              "0.255555061572494"
            ],
            "text/plain": [
              "[1] 0.2555551"
            ]
          },
          "metadata": {},
          "output_type": "display_data"
        }
      ],
      "source": [
        "1 / (1 + exp(-(-0.711606+(-.035382*20)-0.827540+0.831927-1.002658+(60*0.014895)+0.454616)))"
      ]
    },
    {
      "cell_type": "markdown",
      "metadata": {},
      "source": [
        "The same customer, but who has not signed up for PaperlessBilling: 0.179"
      ]
    },
    {
      "cell_type": "code",
      "execution_count": null,
      "metadata": {
        "colab": {
          "base_uri": "https://localhost:8080/",
          "height": 34
        },
        "id": "71cdDQbOOVy3",
        "outputId": "4bc79750-aac2-4541-aaf1-92e0a62da64f",
        "vscode": {
          "languageId": "r"
        }
      },
      "outputs": [
        {
          "data": {
            "text/html": [
              "0.178900134291267"
            ],
            "text/latex": [
              "0.178900134291267"
            ],
            "text/markdown": [
              "0.178900134291267"
            ],
            "text/plain": [
              "[1] 0.1789001"
            ]
          },
          "metadata": {},
          "output_type": "display_data"
        }
      ],
      "source": [
        "1 / (1 + exp(-(-0.711606+(-.035382*20)-0.827540+0.831927-1.002658+(60*0.014895)+0)))"
      ]
    },
    {
      "cell_type": "markdown",
      "metadata": {
        "id": "mMdOhcnLMWXL"
      },
      "source": [
        "### **3.f**\n"
      ]
    },
    {
      "cell_type": "markdown",
      "metadata": {
        "id": "BlGJdxFmOco8"
      },
      "source": [
        "Similar to the adjusted R-square statistic from multiple regression, the AIC statistic can\n",
        "be used to compare different models using logistic regression. A lower AIC indicates\n",
        "better model fit. Compare the results from the demographics-only model in part a, and\n",
        "the behavioral model in part c; which model appears to better explain customer churn,\n",
        "based on the AIC statistic? Give an explanation for your results (i.e., why do you think\n",
        "this model performs better?). Do you think this is true, in general?\n",
        "\n",
        "---\n",
        "\n",
        "Based on the AIC statistic the behavioral model appears to better explain customer churn since its AIC statistic of 4246.1 is lower than the demographic model’s AIC statistic of 5482.5. The behavioral model is likely superior here because decisions about continuing a service are more immediately tied into a customer’s experience and usage patterns than demographic factors. Behavioral factors tend to be more dynamic and can change over time capturing the evolving nature of customer satisfaction and loyalty. Demographic factors on the other hand may play a more significant role especially in products that are targeted more specifically. For example a women’s clothing line or an older person’s pharmaceutical drug. In this case the superiority of the behavioral model aligns with expectations based on the nature of customer churn in this particular industry; however it’s always valuable to consider both types of variables to get a comprehensive understanding of churn."
      ]
    },
    {
      "cell_type": "markdown",
      "metadata": {
        "id": "nSc6KBvVMZ2w"
      },
      "source": [
        "### **3.g**\n"
      ]
    },
    {
      "cell_type": "markdown",
      "metadata": {
        "id": "-f_lMa0-OfQa"
      },
      "source": [
        "Based on your analyses in this question, suggest a strategy for the company to reduce\n",
        "churn. Justify your strategy using the results of your analyses. If there are any additional\n",
        "analyses you would need to do to justify your proposal, describe them.\n",
        "\n",
        "---\n",
        "\n",
        "1: Focus On Enhancing The Fiber-Optic Internet Experience\n",
        "- Fiber Optic Customers have a very high likelihood of churn. The company should prioritize improving the quality and pricing of its fiber optic service\n",
        "- This could involve upgrading infrastructure for better speed and reliability, reassessing pricing strategies to ensure competitiveness, and enhancing customer support for this segment.\n",
        "\n",
        "2: Promote Longer-Term Contracts\n",
        "- The negative coefficients for one-year and especially two-year contracts suggest that customers on longer contracts are less likely to churn.\n",
        "- The company could incentivize customers to switch to longer-term contracts through discounts, bundled offers, or loyalty rewards.\n",
        "\n",
        "3: Reevaluate the Paperless Billing Offer\n",
        "- Since paperless billing is associated with higher churn, it's worth investigating why this is the case.\n",
        "- It could be related to the demographics of customers who opt for paperless billing or their experience with the billing system.\n",
        "- A deep dive into the customer journey for those using paperless billing, through user experience research or A/B testing of changes to the paperless billing process, could reveal insights and opportunities to improve satisfaction and reduce churn.\n",
        "\n",
        "4: Address High Churn Among New Customers\n",
        "- The model showed a significant negative impact of tenure on churn, indicating that newer customers are more likely to leave.\n",
        "- Developing a targeted onboarding process for new customers, including welcome packages, guided service tutorials, or special offers for the initial months, could improve retention.\n",
        "\n",
        "5: Adjust Monthly Charges Strategically\n",
        "- With higher monthly charges linked to increased churn risk, the company should consider its pricing strategy carefully.\n",
        "- Competitive pricing analyses, customer segmentation based on usage and value perception, and personalized offers could be ways to manage this.\n"
      ]
    }
  ],
  "metadata": {
    "colab": {
      "provenance": []
    },
    "kernelspec": {
      "display_name": "R",
      "name": "ir"
    },
    "language_info": {
      "name": "R"
    }
  },
  "nbformat": 4,
  "nbformat_minor": 0
}
